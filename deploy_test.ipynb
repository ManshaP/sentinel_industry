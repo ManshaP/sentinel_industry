{
 "cells": [
  {
   "cell_type": "code",
   "execution_count": 1,
   "id": "c4836ad9",
   "metadata": {},
   "outputs": [
    {
     "name": "stderr",
     "output_type": "stream",
     "text": [
      "2023-01-13 10:58:09.301193: I tensorflow/core/platform/cpu_feature_guard.cc:193] This TensorFlow binary is optimized with oneAPI Deep Neural Network Library (oneDNN) to use the following CPU instructions in performance-critical operations:  AVX2 FMA\n",
      "To enable them in other operations, rebuild TensorFlow with the appropriate compiler flags.\n",
      "2023-01-13 10:58:09.459332: W tensorflow/compiler/xla/stream_executor/platform/default/dso_loader.cc:64] Could not load dynamic library 'libcudart.so.11.0'; dlerror: libcudart.so.11.0: cannot open shared object file: No such file or directory\n",
      "2023-01-13 10:58:09.459369: I tensorflow/compiler/xla/stream_executor/cuda/cudart_stub.cc:29] Ignore above cudart dlerror if you do not have a GPU set up on your machine.\n",
      "2023-01-13 10:58:10.877112: W tensorflow/compiler/xla/stream_executor/platform/default/dso_loader.cc:64] Could not load dynamic library 'libnvinfer.so.7'; dlerror: libnvinfer.so.7: cannot open shared object file: No such file or directory\n",
      "2023-01-13 10:58:10.877207: W tensorflow/compiler/xla/stream_executor/platform/default/dso_loader.cc:64] Could not load dynamic library 'libnvinfer_plugin.so.7'; dlerror: libnvinfer_plugin.so.7: cannot open shared object file: No such file or directory\n",
      "2023-01-13 10:58:10.877215: W tensorflow/compiler/tf2tensorrt/utils/py_utils.cc:38] TF-TRT Warning: Cannot dlopen some TensorRT libraries. If you would like to use Nvidia GPU with TensorRT, please make sure the missing libraries mentioned above are installed properly.\n"
     ]
    }
   ],
   "source": [
    "import sys, os\n",
    "# sys.path.insert(0, '/content/drive/MyDrive/CloudsDL/BigEarthNet_exe_data/bigearthnet-models-tf-master')\n",
    "# from BigEarthNet import BigEarthNet\n",
    "\n",
    "import numpy as np\n",
    "import pandas as pd\n",
    "import re\n",
    "\n",
    "# import tensorflow.compat.v1 as tf\n",
    "import subprocess, time, os\n",
    "import argparse\n",
    "import json\n",
    "import glob\n",
    "import importlib\n",
    "from osgeo import gdal, osr\n",
    "gdal.UseExceptions()\n",
    "from concurrent.futures import ThreadPoolExecutor\n",
    "import copy\n",
    "from pathlib import Path\n",
    "import geopandas as gpd\n",
    "import shapely\n",
    "from pprint import pprint\n",
    "from PIL import Image\n",
    "\n",
    "import cv2\n",
    "from tqdm import tqdm\n",
    "from skimage.util.shape import view_as_windows\n",
    "\n",
    "import tensorflow as tf\n",
    "from tensorflow import keras\n",
    "import pandas as pd"
   ]
  },
  {
   "cell_type": "code",
   "execution_count": 2,
   "id": "698be163",
   "metadata": {},
   "outputs": [
    {
     "data": {
      "text/plain": [
       "'/home/users/pete_nut/sentinel_industry'"
      ]
     },
     "execution_count": 2,
     "metadata": {},
     "output_type": "execute_result"
    }
   ],
   "source": [
    "pwd"
   ]
  },
  {
   "cell_type": "code",
   "execution_count": 3,
   "id": "f1d6500f",
   "metadata": {},
   "outputs": [],
   "source": [
    "# tiles = pd.read_csv('E://Users//sentinel_industry//deploy/indian_five.csv', index_col=0)"
   ]
  },
  {
   "cell_type": "code",
   "execution_count": 4,
   "id": "aa129151",
   "metadata": {},
   "outputs": [
    {
     "ename": "NameError",
     "evalue": "name 'tiles' is not defined",
     "output_type": "error",
     "traceback": [
      "\u001b[0;31m---------------------------------------------------------------------------\u001b[0m",
      "\u001b[0;31mNameError\u001b[0m                                 Traceback (most recent call last)",
      "Input \u001b[0;32mIn [4]\u001b[0m, in \u001b[0;36m<cell line: 1>\u001b[0;34m()\u001b[0m\n\u001b[0;32m----> 1\u001b[0m scene_ids \u001b[38;5;241m=\u001b[39m \u001b[43mtiles\u001b[49m\u001b[38;5;241m.\u001b[39mindex\u001b[38;5;241m.\u001b[39mto_numpy()\n",
      "\u001b[0;31mNameError\u001b[0m: name 'tiles' is not defined"
     ]
    }
   ],
   "source": [
    "scene_ids = tiles.index.to_numpy()"
   ]
  },
  {
   "cell_type": "code",
   "execution_count": 2,
   "id": "76f462c9-da9e-46e3-b302-641b2152329e",
   "metadata": {},
   "outputs": [],
   "source": [
    "sc_list = np.array(['50RMT_20210928', '50RNV_20210918', '50RPU_20210501',\n",
    "       '50RPV_20210918', '50RQT_20210925', '50SMA_20210404',\n",
    "       '50SMB_20210911', '50SMD_20210524', '50SPA_20210501',\n",
    "       '50SPC_20210730', '50SPD_20210521', '50SQD_20210521',\n",
    "       '51RUQ_20210508', '51STS_20210408', '51STT_20210408',\n",
    "       '51SUS_20210408', '51SUT_20210408', '51SUU_20210408',\n",
    "       '50RNT_20210625', '50RNU_20210625', '50RQV_20210622',\n",
    "       '50SMC_20210509', '50SNA_20210605', '50SNB_20210605',\n",
    "       '50SNC_20210605', '50SND_20210419', '50SPB_20210605',\n",
    "       '50SQA_20210622', '50SQC_20210406', '51RTN_20210523',\n",
    "       '51RTP_20210513', '51RTQ_20210523', '51RUN_20210510',\n",
    "       '51STR_20210622', '51STU_20210523', '51SUR_20210622'])"
   ]
  },
  {
   "cell_type": "code",
   "execution_count": 3,
   "id": "39a5cd51-20a5-438e-bdd8-a0475e695d19",
   "metadata": {},
   "outputs": [],
   "source": [
    "nl = ['S2A_'+l+'_0_L2A' for l in sc_list]"
   ]
  },
  {
   "cell_type": "code",
   "execution_count": 4,
   "id": "02c2329b-edc2-4b4e-8cce-12de0d9223ec",
   "metadata": {},
   "outputs": [
    {
     "data": {
      "text/plain": [
       "['S2A_50RMT_20210928_0_L2A',\n",
       " 'S2A_50RNV_20210918_0_L2A',\n",
       " 'S2A_50RPU_20210501_0_L2A',\n",
       " 'S2A_50RPV_20210918_0_L2A',\n",
       " 'S2A_50RQT_20210925_0_L2A',\n",
       " 'S2A_50SMA_20210404_0_L2A',\n",
       " 'S2A_50SMB_20210911_0_L2A',\n",
       " 'S2A_50SMD_20210524_0_L2A',\n",
       " 'S2A_50SPA_20210501_0_L2A',\n",
       " 'S2A_50SPC_20210730_0_L2A',\n",
       " 'S2A_50SPD_20210521_0_L2A',\n",
       " 'S2A_50SQD_20210521_0_L2A',\n",
       " 'S2A_51RUQ_20210508_0_L2A',\n",
       " 'S2A_51STS_20210408_0_L2A',\n",
       " 'S2A_51STT_20210408_0_L2A',\n",
       " 'S2A_51SUS_20210408_0_L2A',\n",
       " 'S2A_51SUT_20210408_0_L2A',\n",
       " 'S2A_51SUU_20210408_0_L2A',\n",
       " 'S2A_50RNT_20210625_0_L2A',\n",
       " 'S2A_50RNU_20210625_0_L2A',\n",
       " 'S2A_50RQV_20210622_0_L2A',\n",
       " 'S2A_50SMC_20210509_0_L2A',\n",
       " 'S2A_50SNA_20210605_0_L2A',\n",
       " 'S2A_50SNB_20210605_0_L2A',\n",
       " 'S2A_50SNC_20210605_0_L2A',\n",
       " 'S2A_50SND_20210419_0_L2A',\n",
       " 'S2A_50SPB_20210605_0_L2A',\n",
       " 'S2A_50SQA_20210622_0_L2A',\n",
       " 'S2A_50SQC_20210406_0_L2A',\n",
       " 'S2A_51RTN_20210523_0_L2A',\n",
       " 'S2A_51RTP_20210513_0_L2A',\n",
       " 'S2A_51RTQ_20210523_0_L2A',\n",
       " 'S2A_51RUN_20210510_0_L2A',\n",
       " 'S2A_51STR_20210622_0_L2A',\n",
       " 'S2A_51STU_20210523_0_L2A',\n",
       " 'S2A_51SUR_20210622_0_L2A']"
      ]
     },
     "execution_count": 4,
     "metadata": {},
     "output_type": "execute_result"
    }
   ],
   "source": [
    "nl"
   ]
  },
  {
   "cell_type": "code",
   "execution_count": 5,
   "id": "d871af47",
   "metadata": {},
   "outputs": [],
   "source": [
    "scene_ids = nl#['S2A_35VLF_20180510_0_L2A', 'S2B_35VLF_20220524_0_L2A']\n",
    "\n",
    "output_layers = '/gws/nopw/j04/aopp/manshausen/deploy/deploy_outl/'\n",
    "\n",
    "image_download_folder = '/gws/nopw/j04/aopp/manshausen/deploy/deploy_dwnimg/'\n",
    "out_put_blocks = '/gws/nopw/j04/aopp/manshausen/deploy/deploy_blk'"
   ]
  },
  {
   "cell_type": "code",
   "execution_count": 6,
   "id": "62b67318",
   "metadata": {},
   "outputs": [],
   "source": [
    "os.environ['GS_NO_SIGN_REQUEST']='YES'\n",
    "os.environ['AWS_NO_SIGN_REQUEST']='YES'\n",
    "os.environ['AWS_VIRTUAL_HOSTING'] ='FALSE'\n",
    "os.environ['AWS_HTTPS'] = 'YES'\n",
    "os.environ['CPL_VSIL_CURL_ALLOWED_EXTENSIONS'] = \".tif,.tiff,.jp2,.mrf,.idx,.lrc,.mrf.aux.xml,.vrt\"\n",
    "os.environ['GDAL_DISABLE_READDIR_ON_OPEN'] = 'YES'"
   ]
  },
  {
   "cell_type": "code",
   "execution_count": 7,
   "id": "1a38d0f9",
   "metadata": {},
   "outputs": [],
   "source": [
    "\n",
    "def get_asw_s2_path(scid):\n",
    "    http_prefix = '/vsicurl/http://sentinel-cogs.s3.amazonaws.com/sentinel-s2-l2a-cogs/'\n",
    "    \n",
    "    http_path = http_prefix+\\\n",
    "                re.findall(r'\\d+',scid.split('_')[1])[0]+'/'+\\\n",
    "                re.findall(\"[a-zA-Z]+\", scid.split('_')[1])[0][0]+'/'+\\\n",
    "                re.findall(\"[a-zA-Z]+\", scid.split('_')[1])[0][1:3]+'/'+\\\n",
    "                scid[10:14]+'/'+\\\n",
    "                str(int(scid[14:16]))+'/'+\\\n",
    "                scid+'/' \n",
    "    return http_path\n",
    "\n",
    "def download_worker_bands(payload):\n",
    "        \n",
    "        payload['download_status'] = []\n",
    "        try:\n",
    "            if payload['ep'] == 'aws_cog':\n",
    "                \n",
    "                path=payload[\"aws_path\"]+payload['download_band']+'.tif'\n",
    "                now_ras = gdal.Open(path)\n",
    "                gdal.GetDriverByName('GTiff')\\\n",
    "                    .CreateCopy(str(Path(payload['outfolder'], \n",
    "                                        payload['id']+\"_\"+payload['download_band']+'.tif')), now_ras)\n",
    "                now_ras=None\n",
    "                payload['download_status'] = payload['download_status']+['from aws to : '\n",
    "                                        +str(Path(payload['outfolder'], \n",
    "                                        payload['id']+\"_\"+payload['download_band']+'.tif'))]\n",
    "        except RuntimeError as err:\n",
    "            print('Dang... ')\n",
    "\n",
    "def download_worker(payload):\n",
    "    task_list = []\n",
    "    for band in payload['download_bands']:\n",
    "        payload['download_band'] = band\n",
    "        task_list.append(copy.deepcopy(payload))\n",
    "    with ThreadPoolExecutor(max_workers=4) as executor:\n",
    "        executor.map(download_worker_bands, task_list)\n",
    "\n",
    "\n",
    "def download_df(scene_df, output_folder, bands_l2a = None, \n",
    "                                        end_point='aws_cog'):\n",
    "        # Download for AWS\n",
    "        if end_point == 'aws_cog':\n",
    "\n",
    "            bands = [band for band in bands_l2a if bands_l2a[band]]\n",
    "            #download_df['download_bands'] = bands\n",
    "            scene_df['outfolder'] = output_folder\n",
    "            scene_df['ep'] = end_point\n",
    "            task_list = list(scene_df.T.to_dict().values())\n",
    "\n",
    "            for tsk in task_list:\n",
    "                tsk['download_bands'] =bands \n",
    "            with ThreadPoolExecutor(max_workers=4) as executor:\n",
    "                tqdm(executor.map(download_worker, task_list), total=len(task_list))\n",
    "            #scene_df = pd.DataFrame(task_list)\n",
    "\n",
    "def output_image(output_img, nowGt, ImPrj, arr, data_type):\n",
    "\n",
    "        nowBlockDs = gdal.GetDriverByName('GTiff').Create(output_img, \n",
    "                                                            arr.shape[2], \n",
    "                                                            arr.shape[1],\n",
    "                                                            arr.shape[0],\n",
    "                                                            data_type)\n",
    "                                                            #gdal.GDT_UInt16)\n",
    "        nowBlockDs.SetGeoTransform(nowGt)\n",
    "        nowBlockDs.SetProjection(ImPrj)\n",
    "        \n",
    "        for i in range(arr.shape[0]):\n",
    "            nowBlockBand = nowBlockDs.GetRasterBand(i+1)\n",
    "            nowBlockBand.WriteArray(arr[i])\n",
    "            nowBlockBand.SetNoDataValue(0)\n",
    "            nowBlockBand.FlushCache()\n",
    "        nowBlockDs=None\n",
    "\n",
    "def bounds_to_polygon(bounds):\n",
    "    '''\n",
    "    function that converts a bounds list to a shapely Polygon object\n",
    "    bounds :: list :: [xmin, ymin, xmax, ymax]\n",
    "    return :: Shapely Polygon object\n",
    "    '''\n",
    "    return shapely.geometry.Polygon([[bounds[0],bounds[3]],\n",
    "                    [bounds[0],bounds[1]],\n",
    "                    [bounds[2],bounds[1]],\n",
    "                    [bounds[2],bounds[3]]])"
   ]
  },
  {
   "cell_type": "code",
   "execution_count": 8,
   "id": "99502328",
   "metadata": {},
   "outputs": [
    {
     "name": "stdout",
     "output_type": "stream",
     "text": [
      "already done for:  S2A_50RMT_20210928_0_L2A\n",
      "already done for:  S2A_50RNV_20210918_0_L2A\n",
      "already done for:  S2A_50RPU_20210501_0_L2A\n",
      "already done for:  S2A_50RPV_20210918_0_L2A\n",
      "already done for:  S2A_50RQT_20210925_0_L2A\n",
      "already done for:  S2A_50SMA_20210404_0_L2A\n",
      "already done for:  S2A_50SMB_20210911_0_L2A\n",
      "already done for:  S2A_50SMD_20210524_0_L2A\n",
      "already done for:  S2A_50SPA_20210501_0_L2A\n",
      "already done for:  S2A_50SPC_20210730_0_L2A\n",
      "already done for:  S2A_50SPD_20210521_0_L2A\n",
      "already done for:  S2A_50SQD_20210521_0_L2A\n",
      "already done for:  S2A_51RUQ_20210508_0_L2A\n",
      "already done for:  S2A_51STS_20210408_0_L2A\n",
      "already done for:  S2A_51STT_20210408_0_L2A\n",
      "already done for:  S2A_51SUS_20210408_0_L2A\n",
      "already done for:  S2A_51SUT_20210408_0_L2A\n",
      "already done for:  S2A_51SUU_20210408_0_L2A\n"
     ]
    },
    {
     "name": "stderr",
     "output_type": "stream",
     "text": [
      "  0%|          | 0/18 [00:00<?, ?it/s]\n"
     ]
    },
    {
     "name": "stdout",
     "output_type": "stream",
     "text": [
      "Dang... \n",
      "Dang... \n",
      "Dang... \n",
      "Dang... \n",
      "Dang... \n",
      "Dang... \n",
      "Dang... \n",
      "Dang... \n",
      "Dang... \n",
      "Dang... \n",
      "Dang... \n",
      "Dang... \n",
      "Dang... \n",
      "Dang... \n",
      "Dang... \n",
      "Dang... \n",
      "Dang... \n",
      "Dang... \n",
      "Dang... \n",
      "Dang... \n",
      "Dang... \n",
      "Dang... \n",
      "Dang... \n",
      "Dang... \n",
      "Dang... \n",
      "Dang... \n",
      "Dang... \n",
      "Dang... \n",
      "Dang... \n",
      "Dang... \n",
      "Dang... \n",
      "Dang... \n",
      "Dang... \n",
      "Dang... \n",
      "Dang... \n",
      "Dang... \n",
      "Dang... \n",
      "Dang... \n",
      "Dang... \n",
      "Dang... \n",
      "Dang... \n",
      "Dang... \n",
      "Dang... \n",
      "Dang... \n",
      "Dang... \n",
      "Dang... \n",
      "Dang... \n",
      "Dang... \n",
      "Dang... \n",
      "Dang... \n",
      "Dang... \n",
      "Dang... \n",
      "Dang... \n",
      "Dang... \n",
      "Dang... \n",
      "Dang... \n",
      "Dang... \n",
      "Dang... \n",
      "Dang... \n",
      "Dang... \n",
      "Dang... \n",
      "Dang... \n",
      "Dang... \n",
      "Dang... \n",
      "Dang... \n",
      "Dang... \n",
      "Dang... \n",
      "Dang... \n",
      "Dang... \n",
      "Dang... \n",
      "Dang... \n",
      "Dang... \n"
     ]
    }
   ],
   "source": [
    "# Download images\n",
    "df_list=[]\n",
    "for scene in scene_ids:\n",
    "    if not os.path.isfile(image_download_folder+scene+'_B02.tif'):\n",
    "        df_list.append([scene, get_asw_s2_path(scene)])\n",
    "    else: print('already done for: ', scene)\n",
    "dwnld_df = pd.DataFrame(df_list, columns=['id','aws_path'])\n",
    "\n",
    "platform_bands_l2a={\"B02\": True,\"B03\": True,\n",
    "                    \"B04\": True,\"B08\":True}\n",
    "output_folder=image_download_folder\n",
    "download_df(dwnld_df, output_folder,  bands_l2a = platform_bands_l2a, end_point='aws_cog')\n",
    "\n",
    "base_dir = image_download_folder\n"
   ]
  },
  {
   "cell_type": "code",
   "execution_count": 12,
   "id": "4fe2b5b6",
   "metadata": {},
   "outputs": [],
   "source": [
    "# scene_ids = scene_ids[1:]"
   ]
  },
  {
   "cell_type": "code",
   "execution_count": 9,
   "id": "8b6fb466",
   "metadata": {},
   "outputs": [],
   "source": [
    "images_df_list = [[(\"_\").join(x.split(\"_\")[1:3]),\n",
    "                    x.split(\"_\")[-1].split('.')[0],\n",
    "                    os.path.join(base_dir,x)] for x in os.listdir(base_dir) if x.endswith('.tif')]\n",
    "images_df = pd.DataFrame(images_df_list, columns= ['id', 'band', 'path'])\n"
   ]
  },
  {
   "cell_type": "code",
   "execution_count": 10,
   "id": "a65158c5-9b52-45a5-9720-b9b295691afd",
   "metadata": {},
   "outputs": [
    {
     "data": {
      "text/html": [
       "<div>\n",
       "<style scoped>\n",
       "    .dataframe tbody tr th:only-of-type {\n",
       "        vertical-align: middle;\n",
       "    }\n",
       "\n",
       "    .dataframe tbody tr th {\n",
       "        vertical-align: top;\n",
       "    }\n",
       "\n",
       "    .dataframe thead th {\n",
       "        text-align: right;\n",
       "    }\n",
       "</style>\n",
       "<table border=\"1\" class=\"dataframe\">\n",
       "  <thead>\n",
       "    <tr style=\"text-align: right;\">\n",
       "      <th></th>\n",
       "      <th>id</th>\n",
       "      <th>band</th>\n",
       "      <th>path</th>\n",
       "    </tr>\n",
       "  </thead>\n",
       "  <tbody>\n",
       "    <tr>\n",
       "      <th>0</th>\n",
       "      <td>35VLF_20180510</td>\n",
       "      <td>B02</td>\n",
       "      <td>/gws/nopw/j04/aopp/manshausen/deploy/deploy_dw...</td>\n",
       "    </tr>\n",
       "    <tr>\n",
       "      <th>1</th>\n",
       "      <td>35VLF_20180510</td>\n",
       "      <td>B03</td>\n",
       "      <td>/gws/nopw/j04/aopp/manshausen/deploy/deploy_dw...</td>\n",
       "    </tr>\n",
       "    <tr>\n",
       "      <th>2</th>\n",
       "      <td>35VLF_20180510</td>\n",
       "      <td>B04</td>\n",
       "      <td>/gws/nopw/j04/aopp/manshausen/deploy/deploy_dw...</td>\n",
       "    </tr>\n",
       "    <tr>\n",
       "      <th>3</th>\n",
       "      <td>35VLF_20180510</td>\n",
       "      <td>B08</td>\n",
       "      <td>/gws/nopw/j04/aopp/manshausen/deploy/deploy_dw...</td>\n",
       "    </tr>\n",
       "    <tr>\n",
       "      <th>4</th>\n",
       "      <td>50RMT_20210928</td>\n",
       "      <td>B02</td>\n",
       "      <td>/gws/nopw/j04/aopp/manshausen/deploy/deploy_dw...</td>\n",
       "    </tr>\n",
       "    <tr>\n",
       "      <th>...</th>\n",
       "      <td>...</td>\n",
       "      <td>...</td>\n",
       "      <td>...</td>\n",
       "    </tr>\n",
       "    <tr>\n",
       "      <th>147</th>\n",
       "      <td>51STU_20210523</td>\n",
       "      <td>B08</td>\n",
       "      <td>/gws/nopw/j04/aopp/manshausen/deploy/deploy_dw...</td>\n",
       "    </tr>\n",
       "    <tr>\n",
       "      <th>148</th>\n",
       "      <td>51SUR_20210622</td>\n",
       "      <td>B02</td>\n",
       "      <td>/gws/nopw/j04/aopp/manshausen/deploy/deploy_dw...</td>\n",
       "    </tr>\n",
       "    <tr>\n",
       "      <th>149</th>\n",
       "      <td>51SUR_20210622</td>\n",
       "      <td>B03</td>\n",
       "      <td>/gws/nopw/j04/aopp/manshausen/deploy/deploy_dw...</td>\n",
       "    </tr>\n",
       "    <tr>\n",
       "      <th>150</th>\n",
       "      <td>51SUR_20210622</td>\n",
       "      <td>B04</td>\n",
       "      <td>/gws/nopw/j04/aopp/manshausen/deploy/deploy_dw...</td>\n",
       "    </tr>\n",
       "    <tr>\n",
       "      <th>151</th>\n",
       "      <td>51SUR_20210622</td>\n",
       "      <td>B08</td>\n",
       "      <td>/gws/nopw/j04/aopp/manshausen/deploy/deploy_dw...</td>\n",
       "    </tr>\n",
       "  </tbody>\n",
       "</table>\n",
       "<p>152 rows × 3 columns</p>\n",
       "</div>"
      ],
      "text/plain": [
       "                 id band                                               path\n",
       "0    35VLF_20180510  B02  /gws/nopw/j04/aopp/manshausen/deploy/deploy_dw...\n",
       "1    35VLF_20180510  B03  /gws/nopw/j04/aopp/manshausen/deploy/deploy_dw...\n",
       "2    35VLF_20180510  B04  /gws/nopw/j04/aopp/manshausen/deploy/deploy_dw...\n",
       "3    35VLF_20180510  B08  /gws/nopw/j04/aopp/manshausen/deploy/deploy_dw...\n",
       "4    50RMT_20210928  B02  /gws/nopw/j04/aopp/manshausen/deploy/deploy_dw...\n",
       "..              ...  ...                                                ...\n",
       "147  51STU_20210523  B08  /gws/nopw/j04/aopp/manshausen/deploy/deploy_dw...\n",
       "148  51SUR_20210622  B02  /gws/nopw/j04/aopp/manshausen/deploy/deploy_dw...\n",
       "149  51SUR_20210622  B03  /gws/nopw/j04/aopp/manshausen/deploy/deploy_dw...\n",
       "150  51SUR_20210622  B04  /gws/nopw/j04/aopp/manshausen/deploy/deploy_dw...\n",
       "151  51SUR_20210622  B08  /gws/nopw/j04/aopp/manshausen/deploy/deploy_dw...\n",
       "\n",
       "[152 rows x 3 columns]"
      ]
     },
     "execution_count": 10,
     "metadata": {},
     "output_type": "execute_result"
    }
   ],
   "source": [
    "images_df"
   ]
  },
  {
   "cell_type": "code",
   "execution_count": 11,
   "id": "516535d3",
   "metadata": {},
   "outputs": [],
   "source": [
    "# ####################################################################\n",
    "# # Optional\n",
    "# ####################################################################\n",
    "# # Save RGB images for visuals\n",
    "# for scene in scene_ids:\n",
    "#     stbits = scene.split('_')\n",
    "#     shortname = stbits[1]+'_'+stbits[2]\n",
    "#     shortname\n",
    "#     if not os.path.isfile(os.path.join(output_layers,shortname+'_rgb.tif')):\n",
    "#         print('saving visuals for: ', scene)\n",
    "#       # red\n",
    "#         redDs = gdal.Open(os.path.join(image_download_folder,scene+'_B04.tif'))\n",
    "#         redArr = redDs.ReadAsArray()\n",
    "#         nowGt = redDs.GetGeoTransform()\n",
    "#         ImPrj = redDs.GetProjection()\n",
    "#         redDs=None\n",
    "#         rgb = redArr[np.newaxis,...]\n",
    "#         # green\n",
    "#         greenDs = gdal.Open(os.path.join(image_download_folder,scene+'_B03.tif'))\n",
    "#         greenArr = greenDs.ReadAsArray()\n",
    "#         greenDs=None\n",
    "#         rgb = np.append(rgb, greenArr[np.newaxis,...], axis=0)\n",
    "#         # blue\n",
    "#         blueDs = gdal.Open(os.path.join(image_download_folder,scene+'_B02.tif'))\n",
    "#         blueArr = blueDs.ReadAsArray()\n",
    "#         blueDs=None\n",
    "#         rgb = np.append(rgb, blueArr[np.newaxis,...], axis=0)\n",
    "#     #     if os.path.isdir(os.path.join(output_layers, scene)) == False:\n",
    "#     #         os.makedirs(os.path.join(output_layers, scene))\n",
    "        \n",
    "#         output_image(os.path.join(output_layers,shortname+'_rgb.tif'), nowGt, ImPrj, rgb, gdal.GDT_UInt16)\n",
    "\n",
    "#     else: print('already done for: ', scene)"
   ]
  },
  {
   "cell_type": "code",
   "execution_count": 12,
   "id": "ead004a5",
   "metadata": {},
   "outputs": [
    {
     "data": {
      "text/plain": [
       "'51SUR_20210622'"
      ]
     },
     "execution_count": 12,
     "metadata": {},
     "output_type": "execute_result"
    }
   ],
   "source": [
    "stbits = scene.split('_')\n",
    "shortname = stbits[1]+'_'+stbits[2]\n",
    "shortname"
   ]
  },
  {
   "cell_type": "code",
   "execution_count": 13,
   "id": "b6ea4de1",
   "metadata": {},
   "outputs": [],
   "source": [
    "# images_df = images_df[4:8]"
   ]
  },
  {
   "cell_type": "code",
   "execution_count": 14,
   "id": "b0929dfa",
   "metadata": {},
   "outputs": [
    {
     "data": {
      "text/html": [
       "<div>\n",
       "<style scoped>\n",
       "    .dataframe tbody tr th:only-of-type {\n",
       "        vertical-align: middle;\n",
       "    }\n",
       "\n",
       "    .dataframe tbody tr th {\n",
       "        vertical-align: top;\n",
       "    }\n",
       "\n",
       "    .dataframe thead th {\n",
       "        text-align: right;\n",
       "    }\n",
       "</style>\n",
       "<table border=\"1\" class=\"dataframe\">\n",
       "  <thead>\n",
       "    <tr style=\"text-align: right;\">\n",
       "      <th></th>\n",
       "      <th>id</th>\n",
       "      <th>band</th>\n",
       "      <th>path</th>\n",
       "    </tr>\n",
       "  </thead>\n",
       "  <tbody>\n",
       "    <tr>\n",
       "      <th>0</th>\n",
       "      <td>35VLF_20180510</td>\n",
       "      <td>B02</td>\n",
       "      <td>/gws/nopw/j04/aopp/manshausen/deploy/deploy_dw...</td>\n",
       "    </tr>\n",
       "    <tr>\n",
       "      <th>1</th>\n",
       "      <td>35VLF_20180510</td>\n",
       "      <td>B03</td>\n",
       "      <td>/gws/nopw/j04/aopp/manshausen/deploy/deploy_dw...</td>\n",
       "    </tr>\n",
       "    <tr>\n",
       "      <th>2</th>\n",
       "      <td>35VLF_20180510</td>\n",
       "      <td>B04</td>\n",
       "      <td>/gws/nopw/j04/aopp/manshausen/deploy/deploy_dw...</td>\n",
       "    </tr>\n",
       "    <tr>\n",
       "      <th>3</th>\n",
       "      <td>35VLF_20180510</td>\n",
       "      <td>B08</td>\n",
       "      <td>/gws/nopw/j04/aopp/manshausen/deploy/deploy_dw...</td>\n",
       "    </tr>\n",
       "    <tr>\n",
       "      <th>4</th>\n",
       "      <td>50RMT_20210928</td>\n",
       "      <td>B02</td>\n",
       "      <td>/gws/nopw/j04/aopp/manshausen/deploy/deploy_dw...</td>\n",
       "    </tr>\n",
       "    <tr>\n",
       "      <th>...</th>\n",
       "      <td>...</td>\n",
       "      <td>...</td>\n",
       "      <td>...</td>\n",
       "    </tr>\n",
       "    <tr>\n",
       "      <th>147</th>\n",
       "      <td>51STU_20210523</td>\n",
       "      <td>B08</td>\n",
       "      <td>/gws/nopw/j04/aopp/manshausen/deploy/deploy_dw...</td>\n",
       "    </tr>\n",
       "    <tr>\n",
       "      <th>148</th>\n",
       "      <td>51SUR_20210622</td>\n",
       "      <td>B02</td>\n",
       "      <td>/gws/nopw/j04/aopp/manshausen/deploy/deploy_dw...</td>\n",
       "    </tr>\n",
       "    <tr>\n",
       "      <th>149</th>\n",
       "      <td>51SUR_20210622</td>\n",
       "      <td>B03</td>\n",
       "      <td>/gws/nopw/j04/aopp/manshausen/deploy/deploy_dw...</td>\n",
       "    </tr>\n",
       "    <tr>\n",
       "      <th>150</th>\n",
       "      <td>51SUR_20210622</td>\n",
       "      <td>B04</td>\n",
       "      <td>/gws/nopw/j04/aopp/manshausen/deploy/deploy_dw...</td>\n",
       "    </tr>\n",
       "    <tr>\n",
       "      <th>151</th>\n",
       "      <td>51SUR_20210622</td>\n",
       "      <td>B08</td>\n",
       "      <td>/gws/nopw/j04/aopp/manshausen/deploy/deploy_dw...</td>\n",
       "    </tr>\n",
       "  </tbody>\n",
       "</table>\n",
       "<p>152 rows × 3 columns</p>\n",
       "</div>"
      ],
      "text/plain": [
       "                 id band                                               path\n",
       "0    35VLF_20180510  B02  /gws/nopw/j04/aopp/manshausen/deploy/deploy_dw...\n",
       "1    35VLF_20180510  B03  /gws/nopw/j04/aopp/manshausen/deploy/deploy_dw...\n",
       "2    35VLF_20180510  B04  /gws/nopw/j04/aopp/manshausen/deploy/deploy_dw...\n",
       "3    35VLF_20180510  B08  /gws/nopw/j04/aopp/manshausen/deploy/deploy_dw...\n",
       "4    50RMT_20210928  B02  /gws/nopw/j04/aopp/manshausen/deploy/deploy_dw...\n",
       "..              ...  ...                                                ...\n",
       "147  51STU_20210523  B08  /gws/nopw/j04/aopp/manshausen/deploy/deploy_dw...\n",
       "148  51SUR_20210622  B02  /gws/nopw/j04/aopp/manshausen/deploy/deploy_dw...\n",
       "149  51SUR_20210622  B03  /gws/nopw/j04/aopp/manshausen/deploy/deploy_dw...\n",
       "150  51SUR_20210622  B04  /gws/nopw/j04/aopp/manshausen/deploy/deploy_dw...\n",
       "151  51SUR_20210622  B08  /gws/nopw/j04/aopp/manshausen/deploy/deploy_dw...\n",
       "\n",
       "[152 rows x 3 columns]"
      ]
     },
     "execution_count": 14,
     "metadata": {},
     "output_type": "execute_result"
    }
   ],
   "source": [
    "images_df"
   ]
  },
  {
   "cell_type": "code",
   "execution_count": 15,
   "id": "4055d991",
   "metadata": {},
   "outputs": [
    {
     "name": "stdout",
     "output_type": "stream",
     "text": [
      "For:  35VLF_20180510\n",
      "already blocked for:  35VLF_20180510\n",
      "For:  50RMT_20210928\n",
      "already blocked for:  50RMT_20210928\n",
      "For:  50RNV_20210918\n",
      "already blocked for:  50RNV_20210918\n",
      "For:  50RPU_20210501\n",
      "already blocked for:  50RPU_20210501\n",
      "For:  50RPV_20210918\n",
      "already blocked for:  50RPV_20210918\n",
      "For:  50RQT_20210925\n",
      "already blocked for:  50RQT_20210925\n",
      "For:  50SMA_20210404\n",
      "already blocked for:  50SMA_20210404\n",
      "For:  50SMB_20210911\n",
      "already blocked for:  50SMB_20210911\n",
      "For:  50SMD_20210524\n",
      "already blocked for:  50SMD_20210524\n",
      "For:  50SPA_20210501\n",
      "already blocked for:  50SPA_20210501\n",
      "For:  50SPC_20210730\n",
      "already blocked for:  50SPC_20210730\n",
      "For:  50SPD_20210521\n",
      "already blocked for:  50SPD_20210521\n",
      "For:  50SQD_20210521\n",
      "already blocked for:  50SQD_20210521\n",
      "For:  51RUQ_20210508\n",
      "already blocked for:  51RUQ_20210508\n",
      "For:  51STS_20210408\n",
      "already blocked for:  51STS_20210408\n",
      "For:  51STT_20210408\n",
      "already blocked for:  51STT_20210408\n",
      "For:  51SUS_20210408\n",
      "already blocked for:  51SUS_20210408\n",
      "For:  51SUT_20210408\n",
      "already blocked for:  51SUT_20210408\n",
      "For:  51SUU_20210408\n",
      "already blocked for:  51SUU_20210408\n",
      "For:  35VLF_20220524\n",
      "already blocked for:  35VLF_20220524\n",
      "For:  50RNT_20210625\n",
      "already blocked for:  50RNT_20210625\n",
      "For:  50RNU_20210625\n",
      "already blocked for:  50RNU_20210625\n",
      "For:  50RQV_20210622\n",
      "already blocked for:  50RQV_20210622\n",
      "For:  50SMC_20210509\n",
      "already blocked for:  50SMC_20210509\n",
      "For:  50SNA_20210605\n",
      "already blocked for:  50SNA_20210605\n",
      "For:  50SNB_20210605\n",
      "already blocked for:  50SNB_20210605\n",
      "For:  50SNC_20210605\n",
      "already blocked for:  50SNC_20210605\n",
      "For:  50SND_20210419\n",
      "already blocked for:  50SND_20210419\n",
      "For:  50SPB_20210605\n",
      "already blocked for:  50SPB_20210605\n",
      "For:  50SQA_20210622\n",
      "already blocked for:  50SQA_20210622\n",
      "For:  50SQC_20210406\n",
      "already blocked for:  50SQC_20210406\n",
      "For:  51RTN_20210523\n",
      "already blocked for:  51RTN_20210523\n",
      "For:  51RTP_20210513\n",
      "already blocked for:  51RTP_20210513\n",
      "For:  51RTQ_20210523\n",
      "already blocked for:  51RTQ_20210523\n",
      "For:  51RUN_20210510\n",
      "already blocked for:  51RUN_20210510\n",
      "For:  51STR_20210622\n",
      "already blocked for:  51STR_20210622\n",
      "For:  51STU_20210523\n",
      "already blocked for:  51STU_20210523\n",
      "For:  51SUR_20210622\n",
      "already blocked for:  51SUR_20210622\n"
     ]
    }
   ],
   "source": [
    "####################################################################\n",
    "# BLOCKS\n",
    "####################################################################\n",
    "\n",
    "\n",
    "band_order = [\"B02\",\"B03\",\"B04\",\"B08\",]\n",
    "s2_dims = {10: 10980, 20: 5490, 60: 1830}\n",
    "\n",
    "in_shape={'B01': 20,\n",
    "          'B02': 120,\n",
    "          'B03': 120,\n",
    "          'B04': 120,\n",
    "          'B05': 60,\n",
    "          'B06': 60,\n",
    "          'B07': 60,\n",
    "          'B08': 120,\n",
    "          'B09': 20,\n",
    "          'B11': 60,\n",
    "          'B12': 60,\n",
    "          'B8A': 60,}\n",
    "\n",
    "uni_scenes = images_df['id'].unique()\n",
    "for uscn in uni_scenes:\n",
    "    print('For: ', uscn)\n",
    "    if os.path.isdir(os.path.join(out_put_blocks, uscn)) == True:\n",
    "        print('already blocked for: ', uscn)\n",
    "        continue\n",
    "    else:\n",
    "        os.makedirs(os.path.join(out_put_blocks, uscn))\n",
    "    output_path = os.path.join(out_put_blocks, uscn)\n",
    "\n",
    "    # Stack Bands\n",
    "    #------------\n",
    "    now_images = images_df.loc[images_df['id']==uscn]\n",
    "    for band in band_order:\n",
    "        try:\n",
    "#             print(now_images.loc[now_images['band']==band]['path'].iloc[0])\n",
    "            nowDs = gdal.Open(now_images.loc[now_images['band']==band]['path'].iloc[0])\n",
    "            gt= nowDs.GetGeoTransform()\n",
    "            proj= nowDs.GetProjection()\n",
    "            windows=nowDs.ReadAsArray()\n",
    "            windows=windows[np.newaxis,...]\n",
    "\n",
    "\n",
    "            # Define tilting parameters\n",
    "            # -------------------------\n",
    "            rasXmax = nowDs.RasterXSize\n",
    "            rasYmax = nowDs.RasterYSize\n",
    "            block_size = 230       # Size of tile in pixels (X size Y size)\n",
    "\n",
    "            overlap_perc = 0                    # Overlap of tiles\n",
    "\n",
    "            overlap = 90#int(round(block_size*(overlap_perc/100),0))\n",
    "            stepSize = block_size-overlap\n",
    "\n",
    "            #print('Blocking ...')\n",
    "            vrt_list = []\n",
    "            #------------------------------------\n",
    "            # Manage edge case\n",
    "            #------------------------------------\n",
    "            calc_x_steps = (rasXmax-overlap)/stepSize\n",
    "            calc_y_steps = (rasYmax-overlap)/stepSize\n",
    "            last_square =False\n",
    "            if calc_y_steps != int(calc_y_steps):\n",
    "                yminLim=0\n",
    "                ymaxLim=block_size\n",
    "                for y_step in range(int(calc_y_steps)):\n",
    "                    nowBlockArr = windows[...,yminLim:ymaxLim,rasXmax-block_size:rasXmax]\n",
    "\n",
    "                    yminLim = yminLim+stepSize\n",
    "                    ymaxLim = ymaxLim+stepSize\n",
    "\n",
    "                    nowGt = (gt[0] + ((rasXmax-block_size)*gt[1]), \n",
    "                              gt[1],0,\n",
    "                              gt[3] - (int(y_step)*abs(stepSize*gt[5])),\n",
    "                              0,gt[5])\n",
    "\n",
    "                    out_file = os.path.join(output_path, uscn+'_'+band+'_BEN_'+str(y_step)+'_'+str(int(calc_x_steps)+1)+'.tif')\n",
    "                    output_image(out_file,\n",
    "                              nowGt, proj, nowBlockArr, gdal.GDT_UInt16)\n",
    "                last_square=True\n",
    "\n",
    "            if calc_x_steps !=int(calc_x_steps):\n",
    "              # edge case - calculate additional blocks for y max\n",
    "                xminLim=0\n",
    "                xmaxLim=block_size\n",
    "                for x_step in range(int(calc_x_steps)):\n",
    "\n",
    "                    nowBlockArr = windows[..., rasYmax-block_size:rasYmax,xminLim:xmaxLim]\n",
    "                    xminLim = xminLim+stepSize\n",
    "                    xmaxLim = xmaxLim+stepSize\n",
    "\n",
    "                    nowGt = (gt[0] + (int(x_step)*abs(stepSize*gt[1])), \n",
    "                              gt[1],0,\n",
    "                              gt[3] - ((rasYmax-block_size)*abs(gt[5])),\n",
    "                              0,gt[5])\n",
    "\n",
    "                    out_file = os.path.join(output_path, uscn+'_'+band+'_BEN_'+str((int(calc_y_steps)+1))+'_'+str(x_step)+'.tif')\n",
    "                    output_image(out_file,\n",
    "                              nowGt, proj, nowBlockArr, gdal.GDT_UInt16)\n",
    "                last_square=True\n",
    "\n",
    "            #------------------------------------\n",
    "            # Get Last square\n",
    "            #------------------------------------\n",
    "            if last_square:\n",
    "                nowBlockArr = windows[..., rasYmax-block_size:rasYmax,rasXmax-block_size:rasXmax]\n",
    "\n",
    "                nowGt = (gt[0] + ((rasXmax-block_size)*gt[1]), \n",
    "                          gt[1],0,\n",
    "                          gt[3] - ((rasYmax-block_size)*abs(gt[5])),\n",
    "                          0,gt[5])\n",
    "\n",
    "                out_file = os.path.join(output_path, uscn+'_'+band+'_BEN_'+str((int(calc_y_steps)+1))+'_'+str((int(calc_x_steps)+1))+'.tif')\n",
    "                output_image(out_file,\n",
    "                          nowGt, proj, nowBlockArr, gdal.GDT_UInt16)\n",
    "\n",
    "            #------------------------------------\n",
    "            # Continue normal windows\n",
    "            #------------------------------------\n",
    "            windows = view_as_windows(windows,(windows.shape[0],block_size, block_size), step=stepSize)\n",
    "            windows = windows[0]\n",
    "\n",
    "            y_size = windows.shape[0]\n",
    "            x_size = windows.shape[1]\n",
    "            for y in tqdm(range(y_size)):\n",
    "                for x in range(x_size):\n",
    "                    y=y # For testing\n",
    "                    x=x\n",
    "                    nowBlockArr = windows[y][x]\n",
    "\n",
    "                    nowGt = (gt[0] + (x*abs(stepSize*gt[1])), \n",
    "                              gt[1],0,\n",
    "                              gt[3] - (y*abs(stepSize*gt[5])),\n",
    "                              0,gt[5])    \n",
    "\n",
    "                    out_file = os.path.join(output_path, uscn+'_'+band+'_BEN_'+str(y)+'_'+str(x)+'.tif')\n",
    "\n",
    "                    output_image(out_file,\n",
    "                              nowGt, proj, nowBlockArr, gdal.GDT_UInt16)\n",
    "        except ValueError:\n",
    "            print('Failed: ', now_images.loc[now_images['band']==band]['path'].iloc[0])\n",
    "            break\n",
    "#     break "
   ]
  },
  {
   "cell_type": "code",
   "execution_count": 16,
   "id": "b2746ef6-bae3-45e4-bac0-8e7d8dc84122",
   "metadata": {},
   "outputs": [
    {
     "data": {
      "text/plain": [
       "'2.11.0'"
      ]
     },
     "execution_count": 16,
     "metadata": {},
     "output_type": "execute_result"
    }
   ],
   "source": [
    "tf.__version__"
   ]
  },
  {
   "cell_type": "code",
   "execution_count": 17,
   "id": "064f84c7-b740-4bb8-a097-4d6512392c58",
   "metadata": {},
   "outputs": [
    {
     "data": {
      "text/plain": [
       "'2.11.0'"
      ]
     },
     "execution_count": 17,
     "metadata": {},
     "output_type": "execute_result"
    }
   ],
   "source": [
    "keras.__version__"
   ]
  },
  {
   "cell_type": "code",
   "execution_count": 18,
   "id": "843827f8",
   "metadata": {},
   "outputs": [
    {
     "name": "stderr",
     "output_type": "stream",
     "text": [
      "2023-01-13 10:58:39.023991: W tensorflow/compiler/xla/stream_executor/platform/default/dso_loader.cc:64] Could not load dynamic library 'libcuda.so.1'; dlerror: libcuda.so.1: cannot open shared object file: No such file or directory\n",
      "2023-01-13 10:58:39.024037: W tensorflow/compiler/xla/stream_executor/cuda/cuda_driver.cc:265] failed call to cuInit: UNKNOWN ERROR (303)\n",
      "2023-01-13 10:58:39.024064: I tensorflow/compiler/xla/stream_executor/cuda/cuda_diagnostics.cc:156] kernel driver does not appear to be running on this host (host596.jc.rl.ac.uk): /proc/driver/nvidia/version does not exist\n",
      "2023-01-13 10:58:39.024359: I tensorflow/core/platform/cpu_feature_guard.cc:193] This TensorFlow binary is optimized with oneAPI Deep Neural Network Library (oneDNN) to use the following CPU instructions in performance-critical operations:  AVX2 FMA\n",
      "To enable them in other operations, rebuild TensorFlow with the appropriate compiler flags.\n"
     ]
    },
    {
     "name": "stdout",
     "output_type": "stream",
     "text": [
      "WARNING:tensorflow:Using a while_loop for converting RngReadAndSkip cause there is no registered converter for this op.\n",
      "WARNING:tensorflow:Using a while_loop for converting Bitcast cause there is no registered converter for this op.\n",
      "WARNING:tensorflow:Using a while_loop for converting Bitcast cause there is no registered converter for this op.\n",
      "WARNING:tensorflow:Using a while_loop for converting StatelessRandomUniformV2 cause there is no registered converter for this op.\n",
      "WARNING:tensorflow:Using a while_loop for converting ImageProjectiveTransformV3 cause there is no registered converter for this op.\n",
      "WARNING:tensorflow:Using a while_loop for converting RngReadAndSkip cause there is no registered converter for this op.\n",
      "WARNING:tensorflow:Using a while_loop for converting Bitcast cause there is no registered converter for this op.\n",
      "WARNING:tensorflow:Using a while_loop for converting Bitcast cause there is no registered converter for this op.\n",
      "WARNING:tensorflow:Using a while_loop for converting StatelessRandomUniformIntV2 cause there is no registered converter for this op.\n",
      "WARNING:tensorflow:Using a while_loop for converting RngReadAndSkip cause there is no registered converter for this op.\n",
      "WARNING:tensorflow:Using a while_loop for converting Bitcast cause there is no registered converter for this op.\n",
      "WARNING:tensorflow:Using a while_loop for converting Bitcast cause there is no registered converter for this op.\n",
      "WARNING:tensorflow:Using a while_loop for converting StatelessRandomUniformV2 cause there is no registered converter for this op.\n",
      "WARNING:tensorflow:Using a while_loop for converting ImageProjectiveTransformV3 cause there is no registered converter for this op.\n",
      "WARNING:tensorflow:Using a while_loop for converting RngReadAndSkip cause there is no registered converter for this op.\n",
      "WARNING:tensorflow:Using a while_loop for converting Bitcast cause there is no registered converter for this op.\n",
      "WARNING:tensorflow:Using a while_loop for converting Bitcast cause there is no registered converter for this op.\n",
      "WARNING:tensorflow:Using a while_loop for converting StatelessRandomUniformIntV2 cause there is no registered converter for this op.\n"
     ]
    }
   ],
   "source": [
    "lmodel = keras.models.load_model('/gws/nopw/j04/aopp/manshausen/saved_models/resnet50v2/')"
   ]
  },
  {
   "cell_type": "code",
   "execution_count": null,
   "id": "ed4feb17",
   "metadata": {},
   "outputs": [
    {
     "name": "stdout",
     "output_type": "stream",
     "text": [
      "For:  35VLF_20180510\n"
     ]
    },
    {
     "data": {
      "application/vnd.jupyter.widget-view+json": {
       "model_id": "8ed6a59d6cd14f5494e8885eebf58b9b",
       "version_major": 2,
       "version_minor": 0
      },
      "text/plain": [
       "  0%|          | 0/6084 [00:00<?, ?it/s]"
      ]
     },
     "metadata": {},
     "output_type": "display_data"
    },
    {
     "name": "stdout",
     "output_type": "stream",
     "text": [
      "Done  35VLF_20180510_BEN.gpkg\n",
      "For:  50RMT_20210928\n"
     ]
    },
    {
     "data": {
      "application/vnd.jupyter.widget-view+json": {
       "model_id": "cd68bd5325a7418d9664c305750a4183",
       "version_major": 2,
       "version_minor": 0
      },
      "text/plain": [
       "  0%|          | 0/6084 [00:00<?, ?it/s]"
      ]
     },
     "metadata": {},
     "output_type": "display_data"
    },
    {
     "name": "stdout",
     "output_type": "stream",
     "text": [
      "Done  50RMT_20210928_BEN.gpkg\n",
      "For:  50RNV_20210918\n"
     ]
    },
    {
     "data": {
      "application/vnd.jupyter.widget-view+json": {
       "model_id": "f51bb53a8fcf45798b82690871ac9288",
       "version_major": 2,
       "version_minor": 0
      },
      "text/plain": [
       "  0%|          | 0/6084 [00:00<?, ?it/s]"
      ]
     },
     "metadata": {},
     "output_type": "display_data"
    },
    {
     "name": "stdout",
     "output_type": "stream",
     "text": [
      "Done  50RNV_20210918_BEN.gpkg\n",
      "For:  50RPU_20210501\n"
     ]
    },
    {
     "data": {
      "application/vnd.jupyter.widget-view+json": {
       "model_id": "45393ab1c3a24f2da06e52d597d3d365",
       "version_major": 2,
       "version_minor": 0
      },
      "text/plain": [
       "  0%|          | 0/6084 [00:00<?, ?it/s]"
      ]
     },
     "metadata": {},
     "output_type": "display_data"
    },
    {
     "name": "stdout",
     "output_type": "stream",
     "text": [
      "Done  50RPU_20210501_BEN.gpkg\n",
      "For:  50RPV_20210918\n"
     ]
    },
    {
     "data": {
      "application/vnd.jupyter.widget-view+json": {
       "model_id": "33c459c4fc7c455997b24b84ee203228",
       "version_major": 2,
       "version_minor": 0
      },
      "text/plain": [
       "  0%|          | 0/6084 [00:00<?, ?it/s]"
      ]
     },
     "metadata": {},
     "output_type": "display_data"
    },
    {
     "name": "stdout",
     "output_type": "stream",
     "text": [
      "Done  50RPV_20210918_BEN.gpkg\n",
      "For:  50RQT_20210925\n"
     ]
    },
    {
     "data": {
      "application/vnd.jupyter.widget-view+json": {
       "model_id": "745c1dbcb3e44be5823983ba6fcc8991",
       "version_major": 2,
       "version_minor": 0
      },
      "text/plain": [
       "  0%|          | 0/6084 [00:00<?, ?it/s]"
      ]
     },
     "metadata": {},
     "output_type": "display_data"
    },
    {
     "name": "stdout",
     "output_type": "stream",
     "text": [
      "Done  50RQT_20210925_BEN.gpkg\n",
      "For:  50SMA_20210404\n"
     ]
    },
    {
     "data": {
      "application/vnd.jupyter.widget-view+json": {
       "model_id": "51d430efd3e741c1b4010bda18fc57b6",
       "version_major": 2,
       "version_minor": 0
      },
      "text/plain": [
       "  0%|          | 0/6084 [00:00<?, ?it/s]"
      ]
     },
     "metadata": {},
     "output_type": "display_data"
    },
    {
     "name": "stdout",
     "output_type": "stream",
     "text": [
      "Done  50SMA_20210404_BEN.gpkg\n",
      "For:  50SMB_20210911\n"
     ]
    },
    {
     "data": {
      "application/vnd.jupyter.widget-view+json": {
       "model_id": "6157d3a3696c443f8b65afc78bb64bf3",
       "version_major": 2,
       "version_minor": 0
      },
      "text/plain": [
       "  0%|          | 0/6084 [00:00<?, ?it/s]"
      ]
     },
     "metadata": {},
     "output_type": "display_data"
    }
   ],
   "source": [
    "from tqdm.notebook import tqdm, trange\n",
    "###########################################\n",
    "#STACK HERE\n",
    "###########################################\n",
    "'''\n",
    "# For the scene - loop through unique grid ids (uni_grids)\n",
    "\n",
    "for uni_gird in uni_grids:\n",
    "\n",
    "# Red\n",
    "redDs = gdal.Open(os.path.join(output_path, reconstruct_name+ (B02) +uni_gird+ '.tif'))\n",
    "ImGT = redDs.GetGeoTransform()\n",
    "ImPrj = redDs.GetProjection()\n",
    "red_band = redDs.GetRasterBand(1)\n",
    "red_arr = red_band.ReadAsArray()\n",
    "redDs=None\n",
    "\n",
    "#Green\n",
    "greenDs = gdal.Open(os.path.join(output_path, reconstruct_name+ (B03) +uni_gird+ '.tif'))\n",
    "green_arr = greenDs.ReadAsArray()\n",
    "greenDs = None\n",
    "\n",
    "#NIR\n",
    "nirDs = gdal.Open(os.path.join(output_path, reconstruct_name+ (B04) +uni_gird+ '.tif'))\n",
    "nir_arr = nirDs.ReadAsArray()\n",
    "nirDs=None\n",
    "\n",
    "\n",
    "nirDs = gdal.Open(os.path.join(output_path, reconstruct_name+ (B08) +uni_gird+ '.tif'))\n",
    "nir_arr = nirDs.ReadAsArray()\n",
    "nirDs=None\n",
    "\n",
    "image_stack = np.stack((red_arr,green_arr,nir_arr))\n",
    "output_img = /path/and/name\n",
    "output_image(output_img, ImGT, ImPrj, image_stack, gdal.GDT_UInt16)\n",
    "'''\n",
    "ben_classes = ['coal', 'steel', 'other']\n",
    "\n",
    "base_folder = out_put_blocks #'deploy/deploy_blk/' \n",
    "for uni_scene in uni_scenes:\n",
    "    if os.path.isfile(os.path.join(output_layers,'S2A_'+uni_scene + '_0_L2A',\n",
    "                        uni_scene + '_BEN.gpkg')) or os.path.isfile(os.path.join(output_layers,\n",
    "                        uni_scene + '_BEN.gpkg')) : \n",
    "        print('already done for ', uni_scene)\n",
    "        continue\n",
    "    \n",
    "    print('For: ', uni_scene)\n",
    "\n",
    "    bands_blocks = os.listdir(os.path.join(base_folder,uni_scene))\n",
    "    bands_blocks_df = [[('_').join(x.split('_')[0:2]),\n",
    "                        x.split('_')[2],\n",
    "                        ('_').join(x.split('_')[-2:]),\n",
    "                        os.path.join(base_folder, uni_scene, x)] for x in bands_blocks]\n",
    "    bands_blocks_df = pd.DataFrame(bands_blocks_df, columns=['scene', 'band', 'block', 'path'])\n",
    "\n",
    "    blocks=bands_blocks_df['block'].unique()\n",
    "#     print(tqdm(blocks))\n",
    "    probabilities_df=[]\n",
    "    for block in tqdm(blocks): \n",
    "        now_block=[]\n",
    "\n",
    "        now_block.append(block[:-4])\n",
    "        band_dict={}\n",
    "        for band in band_order:\n",
    "            nowBand_path = bands_blocks_df.loc[((bands_blocks_df['block'] == block) &\\\n",
    "                                                (bands_blocks_df['band'] == band))]['path'].iloc[0]\n",
    "            nowBand = gdal.Open(nowBand_path)\n",
    "            now_arr= nowBand.ReadAsArray()\n",
    "            band_dict[band]=now_arr[np.newaxis,...]\n",
    "#             print(band_dict.keys())\n",
    "#             band_dict['Placeholder:0'] = np.array(False)\n",
    "#             band_dict['BigEarthNet-19_labels_multi_hot']=np.expand_dims(np.zeros(19), 0)\n",
    "\n",
    "            if band=='B04':\n",
    "                geo_t = nowBand.GetGeoTransform()\n",
    "                proj_now = nowBand.GetProjection()\n",
    "                proj = osr.SpatialReference(wkt=proj_now)\n",
    "                EPSG = int(proj.GetAttrValue('AUTHORITY',1))\n",
    "                x_size = nowBand.RasterXSize\n",
    "                y_size = nowBand.RasterYSize\n",
    "                xmin = min(geo_t[0], geo_t[0] + x_size * geo_t[1])\n",
    "                xmax = max(geo_t[0], geo_t[0] + x_size * geo_t[1])\n",
    "                ymin = min(geo_t[3], geo_t[3] + y_size * geo_t[5])\n",
    "                ymax = max(geo_t[3], geo_t[3] + y_size * geo_t[5])\n",
    "            nowBand=None\n",
    "        B02, B03, B04, B08 = band_dict['B02'][0], band_dict['B03'][0], band_dict['B04'][0], band_dict['B08'][0]\n",
    "        B02 = (B02-ch1_mean)/ch1_std\n",
    "        B03 = (B03-ch2_mean)/ch2_std\n",
    "        B04 = (B04-ch3_mean)/ch3_std\n",
    "        B08 = (B08-ch4_mean)/ch4_std\n",
    "        features = np.array([ B02, B03, B04, B08]).transpose(1,2,0)\n",
    "\n",
    "        probs = tf.nn.softmax(lmodel.predict(np.expand_dims(features,axis=0), verbose=0))\n",
    "#       TF 2 MODEL PREDICT\n",
    "#         probs= sess.run(model.probabilities, feed_dict=model.feed_dict(band_dict))\n",
    "        for prob in probs[0]:\n",
    "            now_block.append(prob.numpy())\n",
    "        now_block.append(bounds_to_polygon([xmin, ymin, xmax, ymax]))\n",
    "        probabilities_df.append(now_block)\n",
    "        # print(now_block)\n",
    "    \n",
    "    probabilities_df = gpd.GeoDataFrame(probabilities_df, columns=['block_id']+ben_classes+['geometry'])\n",
    "    probabilities_df = probabilities_df.set_crs(EPSG, allow_override=True)\n",
    "    probabilities_df.to_file(os.path.join(output_layers,\n",
    "                        uni_scene + '_BEN.gpkg'), driver='GPKG')\n",
    "    print('Done ', uni_scene + '_BEN.gpkg')\n",
    "#     break "
   ]
  },
  {
   "cell_type": "code",
   "execution_count": 302,
   "id": "b7416dca",
   "metadata": {},
   "outputs": [],
   "source": [
    "# for prob in pred[0]:\n",
    "#     print(prob.numpy())"
   ]
  },
  {
   "cell_type": "code",
   "execution_count": 303,
   "id": "83fe15ab",
   "metadata": {},
   "outputs": [
    {
     "data": {
      "text/plain": [
       "'S2A_44QNL_20210413_0_L2A'"
      ]
     },
     "execution_count": 303,
     "metadata": {},
     "output_type": "execute_result"
    }
   ],
   "source": [
    "scene"
   ]
  },
  {
   "cell_type": "code",
   "execution_count": 229,
   "id": "1bfa3536",
   "metadata": {},
   "outputs": [
    {
     "data": {
      "text/plain": [
       "'deploy/deploy_outl/'"
      ]
     },
     "execution_count": 229,
     "metadata": {},
     "output_type": "execute_result"
    }
   ],
   "source": [
    "'deploy/deploy_outl/'"
   ]
  },
  {
   "cell_type": "code",
   "execution_count": 10,
   "id": "9ee54297",
   "metadata": {},
   "outputs": [],
   "source": [
    "finished_list = glob.glob(output_layers+'*/*_BEN.gpkg') + glob.glob(output_layers+'*_BEN.gpkg')"
   ]
  },
  {
   "cell_type": "code",
   "execution_count": 11,
   "id": "d7fa1e56",
   "metadata": {},
   "outputs": [
    {
     "data": {
      "text/plain": [
       "['deploy/deploy_outl\\\\44QLG_20210418_BEN.gpkg',\n",
       " 'deploy/deploy_outl\\\\44QLH_20210403_BEN.gpkg',\n",
       " 'deploy/deploy_outl\\\\44QLJ_20210403_BEN.gpkg',\n",
       " 'deploy/deploy_outl\\\\44QLK_20210403_BEN.gpkg',\n",
       " 'deploy/deploy_outl\\\\44QLL_20210518_BEN.gpkg',\n",
       " 'deploy/deploy_outl\\\\44QMG_20210413_BEN.gpkg',\n",
       " 'deploy/deploy_outl\\\\44QMH_20210403_BEN.gpkg',\n",
       " 'deploy/deploy_outl\\\\44QMJ_20210403_BEN.gpkg',\n",
       " 'deploy/deploy_outl\\\\44QMK_20210403_BEN.gpkg',\n",
       " 'deploy/deploy_outl\\\\44QML_20210403_BEN.gpkg',\n",
       " 'deploy/deploy_outl\\\\44QNG_20210405_BEN.gpkg',\n",
       " 'deploy/deploy_outl\\\\44QNH_20210515_BEN.gpkg',\n",
       " 'deploy/deploy_outl\\\\44QNL_20210413_BEN.gpkg',\n",
       " 'deploy/deploy_outl\\\\44QPG_20210430_BEN.gpkg',\n",
       " 'deploy/deploy_outl\\\\44QPH_20210530_BEN.gpkg',\n",
       " 'deploy/deploy_outl\\\\44QPJ_20210405_BEN.gpkg',\n",
       " 'deploy/deploy_outl\\\\44QPK_20210420_BEN.gpkg',\n",
       " 'deploy/deploy_outl\\\\44QPL_20210405_BEN.gpkg',\n",
       " 'deploy/deploy_outl\\\\44QQJ_20210420_BEN.gpkg',\n",
       " 'deploy/deploy_outl\\\\44QQK_20210405_BEN.gpkg',\n",
       " 'deploy/deploy_outl\\\\44QQL_20210420_BEN.gpkg',\n",
       " 'deploy/deploy_outl\\\\44QRG_20210417_BEN.gpkg',\n",
       " 'deploy/deploy_outl\\\\44QRH_20210407_BEN.gpkg',\n",
       " 'deploy/deploy_outl\\\\44QRJ_20210407_BEN.gpkg',\n",
       " 'deploy/deploy_outl\\\\44QRK_20210522_BEN.gpkg',\n",
       " 'deploy/deploy_outl\\\\50RMT_20210928_BEN.gpkg',\n",
       " 'deploy/deploy_outl\\\\50RNT_20210625_BEN.gpkg',\n",
       " 'deploy/deploy_outl\\\\50RNU_20210625_BEN.gpkg',\n",
       " 'deploy/deploy_outl\\\\50RNV_20210918_BEN.gpkg',\n",
       " 'deploy/deploy_outl\\\\50RPU_20210501_BEN.gpkg',\n",
       " 'deploy/deploy_outl\\\\50RPV_20210918_BEN.gpkg',\n",
       " 'deploy/deploy_outl\\\\50RQT_20210925_BEN.gpkg',\n",
       " 'deploy/deploy_outl\\\\50RQV_20210622_BEN.gpkg',\n",
       " 'deploy/deploy_outl\\\\50SMA_20210404_BEN.gpkg',\n",
       " 'deploy/deploy_outl\\\\50SMB_20210911_BEN.gpkg',\n",
       " 'deploy/deploy_outl\\\\50SMC_20210509_BEN.gpkg',\n",
       " 'deploy/deploy_outl\\\\50SMD_20210524_BEN.gpkg',\n",
       " 'deploy/deploy_outl\\\\50SNA_20210605_BEN.gpkg',\n",
       " 'deploy/deploy_outl\\\\50SNB_20210605_BEN.gpkg',\n",
       " 'deploy/deploy_outl\\\\50SNC_20210605_BEN.gpkg',\n",
       " 'deploy/deploy_outl\\\\50SND_20210419_BEN.gpkg',\n",
       " 'deploy/deploy_outl\\\\50SPA_20210501_BEN.gpkg',\n",
       " 'deploy/deploy_outl\\\\50SPB_20210605_BEN.gpkg',\n",
       " 'deploy/deploy_outl\\\\50SPC_20210730_BEN.gpkg',\n",
       " 'deploy/deploy_outl\\\\50SPD_20210521_BEN.gpkg',\n",
       " 'deploy/deploy_outl\\\\50SQA_20210622_BEN.gpkg',\n",
       " 'deploy/deploy_outl\\\\50SQC_20210406_BEN.gpkg',\n",
       " 'deploy/deploy_outl\\\\50SQD_20210521_BEN.gpkg',\n",
       " 'deploy/deploy_outl\\\\51RTN_20210523_BEN.gpkg',\n",
       " 'deploy/deploy_outl\\\\51RTP_20210513_BEN.gpkg',\n",
       " 'deploy/deploy_outl\\\\51RTQ_20210523_BEN.gpkg',\n",
       " 'deploy/deploy_outl\\\\51RUN_20210510_BEN.gpkg',\n",
       " 'deploy/deploy_outl\\\\51RUQ_20210508_BEN.gpkg',\n",
       " 'deploy/deploy_outl\\\\51STR_20210622_BEN.gpkg',\n",
       " 'deploy/deploy_outl\\\\51STS_20210408_BEN.gpkg',\n",
       " 'deploy/deploy_outl\\\\51STT_20210408_BEN.gpkg',\n",
       " 'deploy/deploy_outl\\\\51STU_20210523_BEN.gpkg',\n",
       " 'deploy/deploy_outl\\\\51SUR_20210622_BEN.gpkg',\n",
       " 'deploy/deploy_outl\\\\51SUS_20210408_BEN.gpkg',\n",
       " 'deploy/deploy_outl\\\\51SUT_20210408_BEN.gpkg',\n",
       " 'deploy/deploy_outl\\\\51SUU_20210408_BEN.gpkg']"
      ]
     },
     "execution_count": 11,
     "metadata": {},
     "output_type": "execute_result"
    }
   ],
   "source": [
    "finished_list"
   ]
  },
  {
   "cell_type": "code",
   "execution_count": 12,
   "id": "ce24789b",
   "metadata": {},
   "outputs": [],
   "source": [
    "for file in [ 'deploy/deploy_outl\\\\44QPK_20210420_BEN.gpkg',]: \n",
    "    df = gpd.read_file(file)\n",
    "#     os.remove(file)"
   ]
  },
  {
   "cell_type": "code",
   "execution_count": 30,
   "id": "bbcd2beb",
   "metadata": {},
   "outputs": [],
   "source": [
    "pol = df.loc[df.block_id=='14_52'].to_crs('WGS 84')"
   ]
  },
  {
   "cell_type": "code",
   "execution_count": 29,
   "id": "581ab7c1",
   "metadata": {},
   "outputs": [
    {
     "data": {
      "text/html": [
       "<div>\n",
       "<style scoped>\n",
       "    .dataframe tbody tr th:only-of-type {\n",
       "        vertical-align: middle;\n",
       "    }\n",
       "\n",
       "    .dataframe tbody tr th {\n",
       "        vertical-align: top;\n",
       "    }\n",
       "\n",
       "    .dataframe thead th {\n",
       "        text-align: right;\n",
       "    }\n",
       "</style>\n",
       "<table border=\"1\" class=\"dataframe\">\n",
       "  <thead>\n",
       "    <tr style=\"text-align: right;\">\n",
       "      <th></th>\n",
       "      <th>block_id</th>\n",
       "      <th>coal</th>\n",
       "      <th>steel</th>\n",
       "      <th>other</th>\n",
       "      <th>geometry</th>\n",
       "    </tr>\n",
       "  </thead>\n",
       "  <tbody>\n",
       "    <tr>\n",
       "      <th>0</th>\n",
       "      <td>0_0</td>\n",
       "      <td>9.731775e-19</td>\n",
       "      <td>7.437154e-16</td>\n",
       "      <td>1.0</td>\n",
       "      <td>POLYGON ((81.97294 22.60409, 81.97279 22.58331...</td>\n",
       "    </tr>\n",
       "    <tr>\n",
       "      <th>1</th>\n",
       "      <td>0_1</td>\n",
       "      <td>2.718823e-21</td>\n",
       "      <td>2.217317e-17</td>\n",
       "      <td>1.0</td>\n",
       "      <td>POLYGON ((81.98656 22.60401, 81.98641 22.58323...</td>\n",
       "    </tr>\n",
       "    <tr>\n",
       "      <th>2</th>\n",
       "      <td>0_10</td>\n",
       "      <td>1.818974e-18</td>\n",
       "      <td>1.027364e-15</td>\n",
       "      <td>1.0</td>\n",
       "      <td>POLYGON ((82.10913 22.60321, 82.10896 22.58243...</td>\n",
       "    </tr>\n",
       "    <tr>\n",
       "      <th>3</th>\n",
       "      <td>0_11</td>\n",
       "      <td>3.577134e-17</td>\n",
       "      <td>8.982842e-15</td>\n",
       "      <td>1.0</td>\n",
       "      <td>POLYGON ((82.12275 22.60311, 82.12258 22.58234...</td>\n",
       "    </tr>\n",
       "    <tr>\n",
       "      <th>4</th>\n",
       "      <td>0_12</td>\n",
       "      <td>1.499580e-17</td>\n",
       "      <td>6.150164e-15</td>\n",
       "      <td>1.0</td>\n",
       "      <td>POLYGON ((82.13637 22.60302, 82.13620 22.58224...</td>\n",
       "    </tr>\n",
       "    <tr>\n",
       "      <th>...</th>\n",
       "      <td>...</td>\n",
       "      <td>...</td>\n",
       "      <td>...</td>\n",
       "      <td>...</td>\n",
       "      <td>...</td>\n",
       "    </tr>\n",
       "    <tr>\n",
       "      <th>6079</th>\n",
       "      <td>9_75</td>\n",
       "      <td>1.146406e-21</td>\n",
       "      <td>1.174548e-17</td>\n",
       "      <td>1.0</td>\n",
       "      <td>POLYGON ((82.99254 22.48089, 82.99224 22.46013...</td>\n",
       "    </tr>\n",
       "    <tr>\n",
       "      <th>6080</th>\n",
       "      <td>9_76</td>\n",
       "      <td>2.284395e-07</td>\n",
       "      <td>1.162588e-07</td>\n",
       "      <td>1.0</td>\n",
       "      <td>POLYGON ((83.00614 22.48072, 83.00584 22.45996...</td>\n",
       "    </tr>\n",
       "    <tr>\n",
       "      <th>6081</th>\n",
       "      <td>9_78</td>\n",
       "      <td>5.308494e-14</td>\n",
       "      <td>5.936363e-13</td>\n",
       "      <td>1.0</td>\n",
       "      <td>POLYGON ((83.01682 22.48059, 83.01652 22.45983...</td>\n",
       "    </tr>\n",
       "    <tr>\n",
       "      <th>6082</th>\n",
       "      <td>9_8</td>\n",
       "      <td>5.008779e-20</td>\n",
       "      <td>1.030547e-16</td>\n",
       "      <td>1.0</td>\n",
       "      <td>POLYGON ((82.08101 22.48958, 82.08084 22.46881...</td>\n",
       "    </tr>\n",
       "    <tr>\n",
       "      <th>6083</th>\n",
       "      <td>9_9</td>\n",
       "      <td>6.178614e-16</td>\n",
       "      <td>4.056307e-14</td>\n",
       "      <td>1.0</td>\n",
       "      <td>POLYGON ((82.09461 22.48949, 82.09445 22.46872...</td>\n",
       "    </tr>\n",
       "  </tbody>\n",
       "</table>\n",
       "<p>6084 rows × 5 columns</p>\n",
       "</div>"
      ],
      "text/plain": [
       "     block_id          coal         steel  other  \\\n",
       "0         0_0  9.731775e-19  7.437154e-16    1.0   \n",
       "1         0_1  2.718823e-21  2.217317e-17    1.0   \n",
       "2        0_10  1.818974e-18  1.027364e-15    1.0   \n",
       "3        0_11  3.577134e-17  8.982842e-15    1.0   \n",
       "4        0_12  1.499580e-17  6.150164e-15    1.0   \n",
       "...       ...           ...           ...    ...   \n",
       "6079     9_75  1.146406e-21  1.174548e-17    1.0   \n",
       "6080     9_76  2.284395e-07  1.162588e-07    1.0   \n",
       "6081     9_78  5.308494e-14  5.936363e-13    1.0   \n",
       "6082      9_8  5.008779e-20  1.030547e-16    1.0   \n",
       "6083      9_9  6.178614e-16  4.056307e-14    1.0   \n",
       "\n",
       "                                               geometry  \n",
       "0     POLYGON ((81.97294 22.60409, 81.97279 22.58331...  \n",
       "1     POLYGON ((81.98656 22.60401, 81.98641 22.58323...  \n",
       "2     POLYGON ((82.10913 22.60321, 82.10896 22.58243...  \n",
       "3     POLYGON ((82.12275 22.60311, 82.12258 22.58234...  \n",
       "4     POLYGON ((82.13637 22.60302, 82.13620 22.58224...  \n",
       "...                                                 ...  \n",
       "6079  POLYGON ((82.99254 22.48089, 82.99224 22.46013...  \n",
       "6080  POLYGON ((83.00614 22.48072, 83.00584 22.45996...  \n",
       "6081  POLYGON ((83.01682 22.48059, 83.01652 22.45983...  \n",
       "6082  POLYGON ((82.08101 22.48958, 82.08084 22.46881...  \n",
       "6083  POLYGON ((82.09461 22.48949, 82.09445 22.46872...  \n",
       "\n",
       "[6084 rows x 5 columns]"
      ]
     },
     "execution_count": 29,
     "metadata": {},
     "output_type": "execute_result"
    }
   ],
   "source": [
    "df.to_crs('WGS 84')"
   ]
  },
  {
   "cell_type": "code",
   "execution_count": 32,
   "id": "f86ed9f9",
   "metadata": {},
   "outputs": [
    {
     "data": {
      "text/html": [
       "<div>\n",
       "<style scoped>\n",
       "    .dataframe tbody tr th:only-of-type {\n",
       "        vertical-align: middle;\n",
       "    }\n",
       "\n",
       "    .dataframe tbody tr th {\n",
       "        vertical-align: top;\n",
       "    }\n",
       "\n",
       "    .dataframe thead th {\n",
       "        text-align: right;\n",
       "    }\n",
       "</style>\n",
       "<table border=\"1\" class=\"dataframe\">\n",
       "  <thead>\n",
       "    <tr style=\"text-align: right;\">\n",
       "      <th></th>\n",
       "      <th>block_id</th>\n",
       "      <th>coal</th>\n",
       "      <th>steel</th>\n",
       "      <th>other</th>\n",
       "      <th>geometry</th>\n",
       "    </tr>\n",
       "  </thead>\n",
       "  <tbody>\n",
       "    <tr>\n",
       "      <th>438</th>\n",
       "      <td>14_52</td>\n",
       "      <td>0.982881</td>\n",
       "      <td>0.016845</td>\n",
       "      <td>0.000274</td>\n",
       "      <td>POLYGON ((82.67891 22.42125, 82.67866 22.40048...</td>\n",
       "    </tr>\n",
       "  </tbody>\n",
       "</table>\n",
       "</div>"
      ],
      "text/plain": [
       "    block_id      coal     steel     other  \\\n",
       "438    14_52  0.982881  0.016845  0.000274   \n",
       "\n",
       "                                              geometry  \n",
       "438  POLYGON ((82.67891 22.42125, 82.67866 22.40048...  "
      ]
     },
     "execution_count": 32,
     "metadata": {},
     "output_type": "execute_result"
    }
   ],
   "source": [
    "pol"
   ]
  },
  {
   "cell_type": "code",
   "execution_count": 226,
   "id": "eee7ab8c",
   "metadata": {},
   "outputs": [
    {
     "data": {
      "text/html": [
       "<div>\n",
       "<style scoped>\n",
       "    .dataframe tbody tr th:only-of-type {\n",
       "        vertical-align: middle;\n",
       "    }\n",
       "\n",
       "    .dataframe tbody tr th {\n",
       "        vertical-align: top;\n",
       "    }\n",
       "\n",
       "    .dataframe thead th {\n",
       "        text-align: right;\n",
       "    }\n",
       "</style>\n",
       "<table border=\"1\" class=\"dataframe\">\n",
       "  <thead>\n",
       "    <tr style=\"text-align: right;\">\n",
       "      <th></th>\n",
       "      <th>block_id</th>\n",
       "      <th>coal</th>\n",
       "      <th>steel</th>\n",
       "      <th>other</th>\n",
       "      <th>geometry</th>\n",
       "    </tr>\n",
       "  </thead>\n",
       "  <tbody>\n",
       "    <tr>\n",
       "      <th>0</th>\n",
       "      <td>0_0</td>\n",
       "      <td>2.370391e-10</td>\n",
       "      <td>1.033139e-08</td>\n",
       "      <td>1.000000</td>\n",
       "      <td>POLYGON ((300000.000 3600000.000, 300000.000 3...</td>\n",
       "    </tr>\n",
       "    <tr>\n",
       "      <th>1</th>\n",
       "      <td>0_1</td>\n",
       "      <td>2.671659e-08</td>\n",
       "      <td>4.452243e-07</td>\n",
       "      <td>1.000000</td>\n",
       "      <td>POLYGON ((301400.000 3600000.000, 301400.000 3...</td>\n",
       "    </tr>\n",
       "    <tr>\n",
       "      <th>2</th>\n",
       "      <td>0_10</td>\n",
       "      <td>6.950425e-11</td>\n",
       "      <td>2.423769e-09</td>\n",
       "      <td>1.000000</td>\n",
       "      <td>POLYGON ((314000.000 3600000.000, 314000.000 3...</td>\n",
       "    </tr>\n",
       "    <tr>\n",
       "      <th>3</th>\n",
       "      <td>0_11</td>\n",
       "      <td>1.174801e-11</td>\n",
       "      <td>6.189567e-10</td>\n",
       "      <td>1.000000</td>\n",
       "      <td>POLYGON ((315400.000 3600000.000, 315400.000 3...</td>\n",
       "    </tr>\n",
       "    <tr>\n",
       "      <th>4</th>\n",
       "      <td>0_12</td>\n",
       "      <td>1.842797e-11</td>\n",
       "      <td>8.374229e-10</td>\n",
       "      <td>1.000000</td>\n",
       "      <td>POLYGON ((316800.000 3600000.000, 316800.000 3...</td>\n",
       "    </tr>\n",
       "    <tr>\n",
       "      <th>...</th>\n",
       "      <td>...</td>\n",
       "      <td>...</td>\n",
       "      <td>...</td>\n",
       "      <td>...</td>\n",
       "      <td>...</td>\n",
       "    </tr>\n",
       "    <tr>\n",
       "      <th>6079</th>\n",
       "      <td>9_75</td>\n",
       "      <td>3.293703e-04</td>\n",
       "      <td>7.909591e-07</td>\n",
       "      <td>0.999670</td>\n",
       "      <td>POLYGON ((405000.000 3587400.000, 405000.000 3...</td>\n",
       "    </tr>\n",
       "    <tr>\n",
       "      <th>6080</th>\n",
       "      <td>9_76</td>\n",
       "      <td>1.270806e-03</td>\n",
       "      <td>4.456614e-06</td>\n",
       "      <td>0.998725</td>\n",
       "      <td>POLYGON ((406400.000 3587400.000, 406400.000 3...</td>\n",
       "    </tr>\n",
       "    <tr>\n",
       "      <th>6081</th>\n",
       "      <td>9_78</td>\n",
       "      <td>5.058030e-04</td>\n",
       "      <td>1.866442e-05</td>\n",
       "      <td>0.999476</td>\n",
       "      <td>POLYGON ((407500.000 3587400.000, 407500.000 3...</td>\n",
       "    </tr>\n",
       "    <tr>\n",
       "      <th>6082</th>\n",
       "      <td>9_8</td>\n",
       "      <td>2.911574e-10</td>\n",
       "      <td>7.850241e-09</td>\n",
       "      <td>1.000000</td>\n",
       "      <td>POLYGON ((311200.000 3587400.000, 311200.000 3...</td>\n",
       "    </tr>\n",
       "    <tr>\n",
       "      <th>6083</th>\n",
       "      <td>9_9</td>\n",
       "      <td>6.524590e-11</td>\n",
       "      <td>2.960880e-09</td>\n",
       "      <td>1.000000</td>\n",
       "      <td>POLYGON ((312600.000 3587400.000, 312600.000 3...</td>\n",
       "    </tr>\n",
       "  </tbody>\n",
       "</table>\n",
       "<p>6084 rows × 5 columns</p>\n",
       "</div>"
      ],
      "text/plain": [
       "     block_id          coal         steel     other  \\\n",
       "0         0_0  2.370391e-10  1.033139e-08  1.000000   \n",
       "1         0_1  2.671659e-08  4.452243e-07  1.000000   \n",
       "2        0_10  6.950425e-11  2.423769e-09  1.000000   \n",
       "3        0_11  1.174801e-11  6.189567e-10  1.000000   \n",
       "4        0_12  1.842797e-11  8.374229e-10  1.000000   \n",
       "...       ...           ...           ...       ...   \n",
       "6079     9_75  3.293703e-04  7.909591e-07  0.999670   \n",
       "6080     9_76  1.270806e-03  4.456614e-06  0.998725   \n",
       "6081     9_78  5.058030e-04  1.866442e-05  0.999476   \n",
       "6082      9_8  2.911574e-10  7.850241e-09  1.000000   \n",
       "6083      9_9  6.524590e-11  2.960880e-09  1.000000   \n",
       "\n",
       "                                               geometry  \n",
       "0     POLYGON ((300000.000 3600000.000, 300000.000 3...  \n",
       "1     POLYGON ((301400.000 3600000.000, 301400.000 3...  \n",
       "2     POLYGON ((314000.000 3600000.000, 314000.000 3...  \n",
       "3     POLYGON ((315400.000 3600000.000, 315400.000 3...  \n",
       "4     POLYGON ((316800.000 3600000.000, 316800.000 3...  \n",
       "...                                                 ...  \n",
       "6079  POLYGON ((405000.000 3587400.000, 405000.000 3...  \n",
       "6080  POLYGON ((406400.000 3587400.000, 406400.000 3...  \n",
       "6081  POLYGON ((407500.000 3587400.000, 407500.000 3...  \n",
       "6082  POLYGON ((311200.000 3587400.000, 311200.000 3...  \n",
       "6083  POLYGON ((312600.000 3587400.000, 312600.000 3...  \n",
       "\n",
       "[6084 rows x 5 columns]"
      ]
     },
     "execution_count": 226,
     "metadata": {},
     "output_type": "execute_result"
    }
   ],
   "source": [
    "probabilities_df"
   ]
  },
  {
   "cell_type": "code",
   "execution_count": 212,
   "id": "48a41d36",
   "metadata": {},
   "outputs": [
    {
     "name": "stderr",
     "output_type": "stream",
     "text": [
      "C:\\Anaconda3_64\\envs\\gdal\\lib\\site-packages\\geopandas\\io\\file.py:299: FutureWarning: pandas.Int64Index is deprecated and will be removed from pandas in a future version. Use pandas.Index with the appropriate dtype instead.\n",
      "  pd.Int64Index,\n"
     ]
    }
   ],
   "source": [
    "# probabilities_df = gpd.GeoDataFrame(probabilities_df, columns=['block_id']+ben_classes+['geometry'])\n",
    "# probabilities_df = probabilities_df.set_crs(EPSG, allow_override=True)\n",
    "# probabilities_df.to_file(os.path.join('E:/Users/sentinel_industry',output_layers,\n",
    "#                         uni_scene + '_BEN.gpkg'), driver='GPKG')\n",
    "# # probabilities_df.to_file('deploy/deploy_outl/S2A_50SPC_20210730_1_L2A/50SPC_20210730_BEN.shp')"
   ]
  },
  {
   "cell_type": "code",
   "execution_count": 202,
   "id": "cf1b8c99",
   "metadata": {},
   "outputs": [],
   "source": [
    "# p=os.path.join('E:/Users/sentinel_industry',output_layers,'S2A_'+uni_scene + '_0_L2A',\n",
    "#                         uni_scene + '_BEN.shp')"
   ]
  },
  {
   "cell_type": "code",
   "execution_count": 235,
   "id": "e37854f7",
   "metadata": {},
   "outputs": [],
   "source": [
    "# probabilities_df.sort_values('coal')"
   ]
  },
  {
   "cell_type": "code",
   "execution_count": 236,
   "id": "4d495347",
   "metadata": {},
   "outputs": [],
   "source": [
    "# probabilities_df.to_file(p)"
   ]
  },
  {
   "cell_type": "code",
   "execution_count": 237,
   "id": "034eb09f",
   "metadata": {},
   "outputs": [],
   "source": [
    "# for uni_scene in uni_scenes:\n",
    "#     print(os.path.isfile(os.path.join(output_layers,'S2A_'+uni_scene + '_0_L2A',\n",
    "#                         uni_scene + '_BEN.gpkg')))"
   ]
  },
  {
   "cell_type": "code",
   "execution_count": 238,
   "id": "328363c8",
   "metadata": {},
   "outputs": [],
   "source": [
    "# uni_scenes"
   ]
  },
  {
   "cell_type": "code",
   "execution_count": 278,
   "id": "db47753b",
   "metadata": {},
   "outputs": [
    {
     "data": {
      "text/plain": [
       "array(['50RMT_20210928', '50RNV_20210918', '50RPU_20210501',\n",
       "       '50RPV_20210918', '50RQT_20210925', '50SMA_20210404',\n",
       "       '50SMB_20210911', '50SMD_20210524', '50SPA_20210501',\n",
       "       '50SPC_20210730', '50SPD_20210521', '50SQD_20210521',\n",
       "       '51RUQ_20210508', '51STS_20210408', '51STT_20210408',\n",
       "       '51SUS_20210408', '51SUT_20210408', '51SUU_20210408',\n",
       "       '50RNT_20210625', '50RNU_20210625', '50RQV_20210622',\n",
       "       '50SMC_20210509', '50SNA_20210605', '50SNB_20210605',\n",
       "       '50SNC_20210605', '50SND_20210419', '50SPB_20210605',\n",
       "       '50SQA_20210622', '50SQC_20210406', '51RTN_20210523',\n",
       "       '51RTP_20210513', '51RTQ_20210523', '51RUN_20210510',\n",
       "       '51STR_20210622', '51STU_20210523', '51SUR_20210622'], dtype=object)"
      ]
     },
     "execution_count": 278,
     "metadata": {},
     "output_type": "execute_result"
    }
   ],
   "source": [
    "uni_scenes"
   ]
  },
  {
   "cell_type": "code",
   "execution_count": 20,
   "id": "6659e15c",
   "metadata": {
    "collapsed": true,
    "jupyter": {
     "outputs_hidden": true
    },
    "tags": []
   },
   "outputs": [
    {
     "name": "stdout",
     "output_type": "stream",
     "text": [
      "(-1.25721123077125, 0.3401204044191213)\n",
      "(-1.25721123077125, 0.3401204044191213)\n",
      "(-1.25721123077125, 0.3401204044191213)\n",
      "(-1.25721123077125, 0.3401204044191213)\n",
      "(-1.25721123077125, 0.3401204044191213)\n",
      "(-1.25721123077125, 0.3401204044191213)\n",
      "(-1.25721123077125, 0.3401204044191213)\n",
      "(-1.25721123077125, 0.3401204044191213)\n",
      "(-1.25721123077125, 0.3401204044191213)\n",
      "(-1.25721123077125, 0.3401204044191213)\n",
      "(-1.25721123077125, 0.3401204044191213)\n",
      "(-1.25721123077125, 0.3401204044191213)\n",
      "(-1.25721123077125, 0.3401204044191213)\n",
      "(-1.25721123077125, 0.3401204044191213)\n",
      "(-1.25721123077125, 0.3401204044191213)\n",
      "(-1.25721123077125, 0.3401204044191213)\n",
      "(-1.25721123077125, 0.3401204044191213)\n",
      "(-1.25721123077125, 0.3401204044191213)\n",
      "(-1.25721123077125, 0.3401204044191213)\n",
      "(-1.25721123077125, 0.3401204044191213)\n",
      "(-1.25721123077125, 0.3401204044191213)\n",
      "(-1.25721123077125, 0.3401204044191213)\n",
      "(-1.25721123077125, 0.3401204044191213)\n",
      "(-1.25721123077125, 0.3401204044191213)\n",
      "(-1.25721123077125, 0.3401204044191213)\n",
      "(-1.25721123077125, 0.3401204044191213)\n",
      "(-1.25721123077125, 0.3401204044191213)\n",
      "(-1.25721123077125, 0.3401204044191213)\n",
      "(-1.25721123077125, 0.3401204044191213)\n",
      "(-1.25721123077125, 0.3401204044191213)\n",
      "(-1.25721123077125, 0.3401204044191213)\n",
      "(-1.25721123077125, 0.3401204044191213)\n",
      "(-1.25721123077125, 0.3401204044191213)\n",
      "(-1.25721123077125, 0.3401204044191213)\n",
      "(-1.25721123077125, 0.3401204044191213)\n",
      "(-1.25721123077125, 0.3401204044191213)\n",
      "(-1.25721123077125, 0.3401204044191213)\n",
      "(-1.25721123077125, 0.3401204044191213)\n",
      "(-1.25721123077125, 0.3401204044191213)\n",
      "(-1.25721123077125, 0.3401204044191213)\n",
      "(-1.25721123077125, 0.3401204044191213)\n"
     ]
    },
    {
     "ename": "KeyboardInterrupt",
     "evalue": "",
     "output_type": "error",
     "traceback": [
      "\u001b[0;31m---------------------------------------------------------------------------\u001b[0m",
      "\u001b[0;31mKeyboardInterrupt\u001b[0m                         Traceback (most recent call last)",
      "Input \u001b[0;32mIn [20]\u001b[0m, in \u001b[0;36m<cell line: 6>\u001b[0;34m()\u001b[0m\n\u001b[1;32m     22\u001b[0m band_dict\u001b[38;5;241m=\u001b[39m{}\n\u001b[1;32m     23\u001b[0m \u001b[38;5;28;01mfor\u001b[39;00m band \u001b[38;5;129;01min\u001b[39;00m band_order:\n\u001b[0;32m---> 24\u001b[0m     nowBand_path \u001b[38;5;241m=\u001b[39m bands_blocks_df\u001b[38;5;241m.\u001b[39mloc[((\u001b[43mbands_blocks_df\u001b[49m\u001b[43m[\u001b[49m\u001b[38;5;124;43m'\u001b[39;49m\u001b[38;5;124;43mblock\u001b[39;49m\u001b[38;5;124;43m'\u001b[39;49m\u001b[43m]\u001b[49m\u001b[43m \u001b[49m\u001b[38;5;241;43m==\u001b[39;49m\u001b[43m \u001b[49m\u001b[43mblock\u001b[49m) \u001b[38;5;241m&\u001b[39m\\\n\u001b[1;32m     25\u001b[0m                                         (bands_blocks_df[\u001b[38;5;124m'\u001b[39m\u001b[38;5;124mband\u001b[39m\u001b[38;5;124m'\u001b[39m] \u001b[38;5;241m==\u001b[39m band))][\u001b[38;5;124m'\u001b[39m\u001b[38;5;124mpath\u001b[39m\u001b[38;5;124m'\u001b[39m]\u001b[38;5;241m.\u001b[39miloc[\u001b[38;5;241m0\u001b[39m]\n\u001b[1;32m     26\u001b[0m     nowBand \u001b[38;5;241m=\u001b[39m gdal\u001b[38;5;241m.\u001b[39mOpen(nowBand_path)\n\u001b[1;32m     27\u001b[0m     now_arr\u001b[38;5;241m=\u001b[39m nowBand\u001b[38;5;241m.\u001b[39mReadAsArray()\n",
      "File \u001b[0;32m~/miniconda3/envs/sentinelind/lib/python3.8/site-packages/pandas/core/ops/common.py:70\u001b[0m, in \u001b[0;36m_unpack_zerodim_and_defer.<locals>.new_method\u001b[0;34m(self, other)\u001b[0m\n\u001b[1;32m     66\u001b[0m             \u001b[38;5;28;01mreturn\u001b[39;00m \u001b[38;5;28mNotImplemented\u001b[39m\n\u001b[1;32m     68\u001b[0m other \u001b[38;5;241m=\u001b[39m item_from_zerodim(other)\n\u001b[0;32m---> 70\u001b[0m \u001b[38;5;28;01mreturn\u001b[39;00m \u001b[43mmethod\u001b[49m\u001b[43m(\u001b[49m\u001b[38;5;28;43mself\u001b[39;49m\u001b[43m,\u001b[49m\u001b[43m \u001b[49m\u001b[43mother\u001b[49m\u001b[43m)\u001b[49m\n",
      "File \u001b[0;32m~/miniconda3/envs/sentinelind/lib/python3.8/site-packages/pandas/core/arraylike.py:40\u001b[0m, in \u001b[0;36mOpsMixin.__eq__\u001b[0;34m(self, other)\u001b[0m\n\u001b[1;32m     38\u001b[0m \u001b[38;5;129m@unpack_zerodim_and_defer\u001b[39m(\u001b[38;5;124m\"\u001b[39m\u001b[38;5;124m__eq__\u001b[39m\u001b[38;5;124m\"\u001b[39m)\n\u001b[1;32m     39\u001b[0m \u001b[38;5;28;01mdef\u001b[39;00m \u001b[38;5;21m__eq__\u001b[39m(\u001b[38;5;28mself\u001b[39m, other):\n\u001b[0;32m---> 40\u001b[0m     \u001b[38;5;28;01mreturn\u001b[39;00m \u001b[38;5;28;43mself\u001b[39;49m\u001b[38;5;241;43m.\u001b[39;49m\u001b[43m_cmp_method\u001b[49m\u001b[43m(\u001b[49m\u001b[43mother\u001b[49m\u001b[43m,\u001b[49m\u001b[43m \u001b[49m\u001b[43moperator\u001b[49m\u001b[38;5;241;43m.\u001b[39;49m\u001b[43meq\u001b[49m\u001b[43m)\u001b[49m\n",
      "File \u001b[0;32m~/miniconda3/envs/sentinelind/lib/python3.8/site-packages/pandas/core/series.py:5623\u001b[0m, in \u001b[0;36mSeries._cmp_method\u001b[0;34m(self, other, op)\u001b[0m\n\u001b[1;32m   5620\u001b[0m rvalues \u001b[38;5;241m=\u001b[39m extract_array(other, extract_numpy\u001b[38;5;241m=\u001b[39m\u001b[38;5;28;01mTrue\u001b[39;00m, extract_range\u001b[38;5;241m=\u001b[39m\u001b[38;5;28;01mTrue\u001b[39;00m)\n\u001b[1;32m   5622\u001b[0m \u001b[38;5;28;01mwith\u001b[39;00m np\u001b[38;5;241m.\u001b[39merrstate(\u001b[38;5;28mall\u001b[39m\u001b[38;5;241m=\u001b[39m\u001b[38;5;124m\"\u001b[39m\u001b[38;5;124mignore\u001b[39m\u001b[38;5;124m\"\u001b[39m):\n\u001b[0;32m-> 5623\u001b[0m     res_values \u001b[38;5;241m=\u001b[39m \u001b[43mops\u001b[49m\u001b[38;5;241;43m.\u001b[39;49m\u001b[43mcomparison_op\u001b[49m\u001b[43m(\u001b[49m\u001b[43mlvalues\u001b[49m\u001b[43m,\u001b[49m\u001b[43m \u001b[49m\u001b[43mrvalues\u001b[49m\u001b[43m,\u001b[49m\u001b[43m \u001b[49m\u001b[43mop\u001b[49m\u001b[43m)\u001b[49m\n\u001b[1;32m   5625\u001b[0m \u001b[38;5;28;01mreturn\u001b[39;00m \u001b[38;5;28mself\u001b[39m\u001b[38;5;241m.\u001b[39m_construct_result(res_values, name\u001b[38;5;241m=\u001b[39mres_name)\n",
      "File \u001b[0;32m~/miniconda3/envs/sentinelind/lib/python3.8/site-packages/pandas/core/ops/array_ops.py:283\u001b[0m, in \u001b[0;36mcomparison_op\u001b[0;34m(left, right, op)\u001b[0m\n\u001b[1;32m    280\u001b[0m     \u001b[38;5;28;01mreturn\u001b[39;00m invalid_comparison(lvalues, rvalues, op)\n\u001b[1;32m    282\u001b[0m \u001b[38;5;28;01melif\u001b[39;00m is_object_dtype(lvalues\u001b[38;5;241m.\u001b[39mdtype) \u001b[38;5;129;01mor\u001b[39;00m \u001b[38;5;28misinstance\u001b[39m(rvalues, \u001b[38;5;28mstr\u001b[39m):\n\u001b[0;32m--> 283\u001b[0m     res_values \u001b[38;5;241m=\u001b[39m \u001b[43mcomp_method_OBJECT_ARRAY\u001b[49m\u001b[43m(\u001b[49m\u001b[43mop\u001b[49m\u001b[43m,\u001b[49m\u001b[43m \u001b[49m\u001b[43mlvalues\u001b[49m\u001b[43m,\u001b[49m\u001b[43m \u001b[49m\u001b[43mrvalues\u001b[49m\u001b[43m)\u001b[49m\n\u001b[1;32m    285\u001b[0m \u001b[38;5;28;01melse\u001b[39;00m:\n\u001b[1;32m    286\u001b[0m     res_values \u001b[38;5;241m=\u001b[39m _na_arithmetic_op(lvalues, rvalues, op, is_cmp\u001b[38;5;241m=\u001b[39m\u001b[38;5;28;01mTrue\u001b[39;00m)\n",
      "File \u001b[0;32m~/miniconda3/envs/sentinelind/lib/python3.8/site-packages/pandas/core/ops/array_ops.py:73\u001b[0m, in \u001b[0;36mcomp_method_OBJECT_ARRAY\u001b[0;34m(op, x, y)\u001b[0m\n\u001b[1;32m     71\u001b[0m     result \u001b[38;5;241m=\u001b[39m libops\u001b[38;5;241m.\u001b[39mvec_compare(x\u001b[38;5;241m.\u001b[39mravel(), y\u001b[38;5;241m.\u001b[39mravel(), op)\n\u001b[1;32m     72\u001b[0m \u001b[38;5;28;01melse\u001b[39;00m:\n\u001b[0;32m---> 73\u001b[0m     result \u001b[38;5;241m=\u001b[39m \u001b[43mlibops\u001b[49m\u001b[38;5;241;43m.\u001b[39;49m\u001b[43mscalar_compare\u001b[49m\u001b[43m(\u001b[49m\u001b[43mx\u001b[49m\u001b[38;5;241;43m.\u001b[39;49m\u001b[43mravel\u001b[49m\u001b[43m(\u001b[49m\u001b[43m)\u001b[49m\u001b[43m,\u001b[49m\u001b[43m \u001b[49m\u001b[43my\u001b[49m\u001b[43m,\u001b[49m\u001b[43m \u001b[49m\u001b[43mop\u001b[49m\u001b[43m)\u001b[49m\n\u001b[1;32m     74\u001b[0m \u001b[38;5;28;01mreturn\u001b[39;00m result\u001b[38;5;241m.\u001b[39mreshape(x\u001b[38;5;241m.\u001b[39mshape)\n",
      "\u001b[0;31mKeyboardInterrupt\u001b[0m: "
     ]
    }
   ],
   "source": [
    "ch1_mean, ch1_std = 970.4162, 1051.8454\n",
    "ch2_mean, ch2_std = 1176.249, 1031.262\n",
    "ch3_mean, ch3_std = 1273.2376, 1117.068\n",
    "ch4_mean, ch4_std = 2266.9050, 1241.5509\n",
    "\n",
    "for uni_scene in uni_scenes[10:20]:\n",
    "    \n",
    "    bands_blocks = os.listdir(os.path.join(base_folder,uni_scene))\n",
    "    bands_blocks_df = [[('_').join(x.split('_')[0:2]),\n",
    "                        x.split('_')[2],\n",
    "                        ('_').join(x.split('_')[-2:]),\n",
    "                        os.path.join(base_folder, uni_scene, x)] for x in bands_blocks]\n",
    "    bands_blocks_df = pd.DataFrame(bands_blocks_df, columns=['scene', 'band', 'block', 'path'])\n",
    "\n",
    "    blocks=bands_blocks_df['block'].unique()\n",
    "    probabilities_df=[]\n",
    "    for block in blocks[0:100]: \n",
    "\n",
    "        now_block=[]\n",
    "\n",
    "        now_block.append(block[:-4])\n",
    "        band_dict={}\n",
    "        for band in band_order:\n",
    "            nowBand_path = bands_blocks_df.loc[((bands_blocks_df['block'] == block) &\\\n",
    "                                                (bands_blocks_df['band'] == band))]['path'].iloc[0]\n",
    "            nowBand = gdal.Open(nowBand_path)\n",
    "            now_arr= nowBand.ReadAsArray()\n",
    "            band_dict[band]=now_arr[np.newaxis,...]\n",
    "#             print(band_dict.keys())\n",
    "#             band_dict['Placeholder:0'] = np.array(False)\n",
    "#             band_dict['BigEarthNet-19_labels_multi_hot']=np.expand_dims(np.zeros(19), 0)\n",
    "\n",
    "            if band=='B04':\n",
    "                geo_t = nowBand.GetGeoTransform()\n",
    "                proj_now = nowBand.GetProjection()\n",
    "                proj = osr.SpatialReference(wkt=proj_now)\n",
    "                EPSG = int(proj.GetAttrValue('AUTHORITY',1))\n",
    "                x_size = nowBand.RasterXSize\n",
    "                y_size = nowBand.RasterYSize\n",
    "                xmin = min(geo_t[0], geo_t[0] + x_size * geo_t[1])\n",
    "                xmax = max(geo_t[0], geo_t[0] + x_size * geo_t[1])\n",
    "                ymin = min(geo_t[3], geo_t[3] + y_size * geo_t[5])\n",
    "                ymax = max(geo_t[3], geo_t[3] + y_size * geo_t[5])\n",
    "            nowBand=None\n",
    "        B02, B03, B04, B08 = band_dict['B02'][0], band_dict['B03'][0], band_dict['B04'][0], band_dict['B08'][0]\n",
    "        B02 = (B02-ch1_mean)/ch1_std\n",
    "        B03 = (B03-ch2_mean)/ch2_std\n",
    "        B04 = (B04-ch3_mean)/ch3_std\n",
    "        B08 = (B08-ch4_mean)/ch4_std\n",
    "        features = np.array([ B02, B03, B04, B08]).transpose(1,2,0)\n",
    "#         break\n",
    "        print((features.mean(), features.std()) )\n",
    "#         probs = tf.nn.softmax(lmodel.predict(np.expand_dims(features,axis=0), verbose=0))"
   ]
  },
  {
   "cell_type": "code",
   "execution_count": 276,
   "id": "59a9cbad",
   "metadata": {},
   "outputs": [
    {
     "data": {
      "text/plain": [
       "(6084,)"
      ]
     },
     "execution_count": 276,
     "metadata": {},
     "output_type": "execute_result"
    }
   ],
   "source": [
    "blocks.shape"
   ]
  },
  {
   "cell_type": "code",
   "execution_count": 274,
   "id": "ddb81998",
   "metadata": {},
   "outputs": [
    {
     "data": {
      "text/plain": [
       "(0.02765990940703329, 0.464174725320105)"
      ]
     },
     "execution_count": 274,
     "metadata": {},
     "output_type": "execute_result"
    }
   ],
   "source": [
    "(features.mean(), features.std()) "
   ]
  },
  {
   "cell_type": "code",
   "execution_count": null,
   "id": "672bd3aa",
   "metadata": {},
   "outputs": [],
   "source": []
  }
 ],
 "metadata": {
  "kernelspec": {
   "display_name": "Python 3",
   "language": "python",
   "name": "python3"
  },
  "language_info": {
   "codemirror_mode": {
    "name": "ipython",
    "version": 3
   },
   "file_extension": ".py",
   "mimetype": "text/x-python",
   "name": "python",
   "nbconvert_exporter": "python",
   "pygments_lexer": "ipython3",
   "version": "3.8.0"
  },
  "vscode": {
   "interpreter": {
    "hash": "d57a6e70de1cc058a6564d17b78cfc5762c03e07321a5eced3c267d86e834997"
   }
  }
 },
 "nbformat": 4,
 "nbformat_minor": 5
}
