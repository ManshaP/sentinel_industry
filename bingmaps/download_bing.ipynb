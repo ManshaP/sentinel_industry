{
 "cells": [
  {
   "cell_type": "code",
   "execution_count": 35,
   "id": "5673865a",
   "metadata": {},
   "outputs": [],
   "source": [
    "import shapely.geometry\n",
    "import geopandas\n",
    "import pickle\n",
    "import json\n",
    "import glob\n",
    "import numpy as np\n",
    "from IPython.utils import io\n",
    "\n"
   ]
  },
  {
   "cell_type": "code",
   "execution_count": 2,
   "id": "4d3106e7",
   "metadata": {},
   "outputs": [],
   "source": [
    "\n",
    "# with open(r\"E:/Users/sentinel_industry/polys/coal/G100001\", \"rb\") as input_file:\n",
    "#     e = pickle.load(input_file)"
   ]
  },
  {
   "cell_type": "code",
   "execution_count": 3,
   "id": "0e13188d",
   "metadata": {},
   "outputs": [],
   "source": [
    "# geopandas.GeoSeries([e]).to_file('test.geojson', driver='GeoJSON')"
   ]
  },
  {
   "cell_type": "code",
   "execution_count": 4,
   "id": "467e7c4a",
   "metadata": {},
   "outputs": [
    {
     "data": {
      "text/plain": [
       "'/home/users/pete_nut/sentinel_industry/bingmaps'"
      ]
     },
     "execution_count": 4,
     "metadata": {},
     "output_type": "execute_result"
    }
   ],
   "source": [
    "pwd"
   ]
  },
  {
   "cell_type": "code",
   "execution_count": 5,
   "id": "25340500",
   "metadata": {},
   "outputs": [],
   "source": [
    "\n",
    "# with io.capture_output() as captured:\n",
    "#     if __name__ == \"__main__\":\n",
    "#         from pathlib import Path\n",
    "#         import geojson\n",
    "#         from bingmaps_downloader import download_bing_aoi\n",
    "\n",
    "#         aoi_file = Path('/home/users/pete_nut/sentinel_industry/bingmaps/polys/coal/G100004.geojson')\n",
    "#         zoom_level = 17\n",
    "#         target_dir = \"/gws/nopw/j04/aopp/manshausen/bing_dl/patches/\"\n",
    "#         cache_dir = \"/gws/nopw/j04/aopp/manshausen/bing_dl/cache/\"\n",
    "\n",
    "#         download_bing_aoi(\n",
    "#             geojson_pth=aoi_file,\n",
    "#             zoom_level=zoom_level,\n",
    "#             target_dir=target_dir,\n",
    "#             bing_cache=cache_dir,\n",
    "#             delete_intermediate=True,\n",
    "#         )"
   ]
  },
  {
   "cell_type": "code",
   "execution_count": 26,
   "id": "0c51d45b",
   "metadata": {},
   "outputs": [],
   "source": [
    "aoi_list = glob.glob('/home/users/pete_nut/sentinel_industry/bingmaps/polys/*/*')"
   ]
  },
  {
   "cell_type": "code",
   "execution_count": 27,
   "id": "64e50166-5a1d-4554-b938-3ba49071974b",
   "metadata": {},
   "outputs": [
    {
     "data": {
      "text/plain": [
       "'/home/users/pete_nut/sentinel_industry/bingmaps/polys/coal/no_ind'"
      ]
     },
     "execution_count": 27,
     "metadata": {},
     "output_type": "execute_result"
    }
   ],
   "source": [
    "aoi_list.pop(0)"
   ]
  },
  {
   "cell_type": "code",
   "execution_count": 34,
   "id": "4e538c1b",
   "metadata": {},
   "outputs": [
    {
     "data": {
      "text/plain": [
       "4360"
      ]
     },
     "execution_count": 34,
     "metadata": {},
     "output_type": "execute_result"
    }
   ],
   "source": [
    "len(aoi_list)"
   ]
  },
  {
   "cell_type": "code",
   "execution_count": 33,
   "id": "69391cfa",
   "metadata": {},
   "outputs": [
    {
     "data": {
      "text/plain": [
       "4360"
      ]
     },
     "execution_count": 33,
     "metadata": {},
     "output_type": "execute_result"
    }
   ],
   "source": [
    "len(np.unique(aoi_list))"
   ]
  },
  {
   "cell_type": "code",
   "execution_count": 32,
   "id": "6b0391e9-8904-44b1-a21b-eace53c1baa0",
   "metadata": {},
   "outputs": [
    {
     "data": {
      "text/plain": [
       "'coal'"
      ]
     },
     "execution_count": 32,
     "metadata": {},
     "output_type": "execute_result"
    }
   ],
   "source": [
    "aoi_file=aoi_list[1]\n",
    "aoi_file.split('/')[-2]"
   ]
  },
  {
   "cell_type": "code",
   "execution_count": 31,
   "id": "2b3b4e5f",
   "metadata": {
    "tags": []
   },
   "outputs": [],
   "source": [
    "with io.capture_output() as captured:\n",
    "    for aoi_file in aoi_list:\n",
    "        if len(glob.glob('/gws/nopw/j04/aopp/manshausen/bing_dl/patches/' + aoi_file.split('/')[-1].split('.')[0] + '*')) == 0:\n",
    "            print(aoi_file)\n",
    "        #     if __name__ == \"__main__\":\n",
    "            import geojson\n",
    "            from bingmaps_downloader import download_bing_aoi\n",
    "\n",
    "            zoom_level = 17\n",
    "            target_dir = \"/gws/nopw/j04/aopp/manshausen/bing_dl/patches/{}/\".format(aoi_file.split('/')[-2])\n",
    "            cache_dir = \"/gws/nopw/j04/aopp/manshausen/bing_dl/cache/{}/\".format(aoi_file.split('/')[-2])\n",
    "\n",
    "            try:\n",
    "                download_bing_aoi(\n",
    "                geojson_pth=aoi_file,\n",
    "                zoom_level=zoom_level,\n",
    "                target_dir=target_dir,\n",
    "                bing_cache=cache_dir,\n",
    "                delete_intermediate=True,)\n",
    "            except : continue"
   ]
  },
  {
   "cell_type": "code",
   "execution_count": 37,
   "id": "a09b63ae",
   "metadata": {},
   "outputs": [],
   "source": [
    "aoi_list = glob.glob('/home/users/pete_nut/sentinel_industry/bingmaps/polys/*/no_ind/*')"
   ]
  },
  {
   "cell_type": "code",
   "execution_count": 39,
   "id": "a2933c1d",
   "metadata": {},
   "outputs": [
    {
     "data": {
      "text/plain": [
       "4359"
      ]
     },
     "execution_count": 39,
     "metadata": {},
     "output_type": "execute_result"
    }
   ],
   "source": [
    "len(aoi_list)"
   ]
  },
  {
   "cell_type": "code",
   "execution_count": 40,
   "id": "02230b3d",
   "metadata": {},
   "outputs": [
    {
     "data": {
      "text/plain": [
       "'no_ind'"
      ]
     },
     "execution_count": 40,
     "metadata": {},
     "output_type": "execute_result"
    }
   ],
   "source": [
    "aoi_file=aoi_list[1]\n",
    "aoi_file.split('/')[-2]"
   ]
  },
  {
   "cell_type": "code",
   "execution_count": 46,
   "id": "b9d83c18-2fca-472d-854a-71fca36f98a9",
   "metadata": {},
   "outputs": [
    {
     "data": {
      "text/plain": [
       "'/gws/nopw/j04/aopp/manshausen/bing_dl/patches/coal/no_ind/'"
      ]
     },
     "execution_count": 46,
     "metadata": {},
     "output_type": "execute_result"
    }
   ],
   "source": [
    "\"/gws/nopw/j04/aopp/manshausen/bing_dl/patches/{}/{}/\".format(aoi_file.split('/')[-3], aoi_file.split('/')[-2])"
   ]
  },
  {
   "cell_type": "code",
   "execution_count": 47,
   "id": "b7c9d75b-8260-40c1-879d-bee4f0e1f9b0",
   "metadata": {},
   "outputs": [],
   "source": [
    "with io.capture_output() as captured:\n",
    "    for aoi_file in aoi_list:\n",
    "        if len(glob.glob('/gws/nopw/j04/aopp/manshausen/bing_dl/patches/' + aoi_file.split('/')[-1].split('.')[0] + '*')) == 0:\n",
    "            print(aoi_file)\n",
    "        #     if __name__ == \"__main__\":\n",
    "            import geojson\n",
    "            from bingmaps_downloader import download_bing_aoi\n",
    "\n",
    "            zoom_level = 17\n",
    "            target_dir = \"/gws/nopw/j04/aopp/manshausen/bing_dl/patches/{}/{}/\".format(aoi_file.split('/')[-3], aoi_file.split('/')[-2])\n",
    "            cache_dir = \"/gws/nopw/j04/aopp/manshausen/bing_dl/cache/{}/{}/\".format(aoi_file.split('/')[-3], aoi_file.split('/')[-2])\n",
    "\n",
    "            try:\n",
    "                download_bing_aoi(\n",
    "                geojson_pth=aoi_file,\n",
    "                zoom_level=zoom_level,\n",
    "                target_dir=target_dir,\n",
    "                bing_cache=cache_dir,\n",
    "                delete_intermediate=True,)\n",
    "            except : continue"
   ]
  },
  {
   "cell_type": "code",
   "execution_count": null,
   "id": "f14fbc7d-d88e-4c62-9fda-f3c2d2510af4",
   "metadata": {},
   "outputs": [],
   "source": []
  }
 ],
 "metadata": {
  "kernelspec": {
   "display_name": "Python 3",
   "language": "python",
   "name": "python3"
  },
  "language_info": {
   "codemirror_mode": {
    "name": "ipython",
    "version": 3
   },
   "file_extension": ".py",
   "mimetype": "text/x-python",
   "name": "python",
   "nbconvert_exporter": "python",
   "pygments_lexer": "ipython3",
   "version": "3.8.0"
  }
 },
 "nbformat": 4,
 "nbformat_minor": 5
}
