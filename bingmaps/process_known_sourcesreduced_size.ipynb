{
 "cells": [
  {
   "cell_type": "code",
   "execution_count": 1,
   "id": "af2a6adf",
   "metadata": {},
   "outputs": [],
   "source": [
    "import pandas as pd"
   ]
  },
  {
   "cell_type": "code",
   "execution_count": 2,
   "id": "bdc9a5ff",
   "metadata": {},
   "outputs": [],
   "source": [
    "# import openpyxl\n",
    "import numpy as np\n",
    "import shapely\n",
    "from shapely.geometry import Point, Polygon, box, GeometryCollection, MultiPolygon\n",
    "import pyproj\n",
    "import pickle\n",
    "import geopandas"
   ]
  },
  {
   "cell_type": "code",
   "execution_count": 3,
   "id": "9b120021",
   "metadata": {},
   "outputs": [],
   "source": [
    "def make_aoi_shape_json_from_latlons(la, lo, tracker_id, savepath):\n",
    "        la_dist = 1/111.32 * 0.7  \n",
    "        lo_dist = 1/np.cos(la*np.pi/180) * la_dist\n",
    "        coords=((lo-lo_dist, la-la_dist),(lo-lo_dist, la+la_dist),(lo+lo_dist, la+la_dist),(lo+lo_dist, la-la_dist))\n",
    "        shape= Polygon(coords)\n",
    "        geopandas.GeoSeries([shape]).to_file(savepath+tracker_id+'.geojson', driver='GeoJSON')"
   ]
  },
  {
   "cell_type": "code",
   "execution_count": 4,
   "id": "637ea15e",
   "metadata": {},
   "outputs": [],
   "source": [
    "xl=pd.read_excel('/home/users/pete_nut/sentinel_industry/Global-Coal-Plant-Tracker-Jan-2022.xlsx', sheet_name=1)"
   ]
  },
  {
   "cell_type": "code",
   "execution_count": 5,
   "id": "9e496284",
   "metadata": {},
   "outputs": [
    {
     "data": {
      "text/plain": [
       "2415"
      ]
     },
     "execution_count": 5,
     "metadata": {},
     "output_type": "execute_result"
    }
   ],
   "source": [
    "len(pd.unique(xl.loc[xl.Status=='operating'].loc[xl.Accuracy=='exact'].Latitude))"
   ]
  },
  {
   "cell_type": "code",
   "execution_count": 6,
   "id": "122a9945",
   "metadata": {},
   "outputs": [],
   "source": [
    "df=xl.loc[xl.Status=='operating'].loc[xl.Accuracy=='exact']\n",
    "df2 = df.drop_duplicates(subset=[\"Latitude\", \"Longitude\"], keep='first')"
   ]
  },
  {
   "cell_type": "code",
   "execution_count": 7,
   "id": "06d5f4bf",
   "metadata": {},
   "outputs": [],
   "source": [
    "df2=df2.set_index('Tracker ID')"
   ]
  },
  {
   "cell_type": "code",
   "execution_count": 8,
   "id": "004e67ba",
   "metadata": {},
   "outputs": [
    {
     "data": {
      "text/plain": [
       "-22.5195"
      ]
     },
     "execution_count": 8,
     "metadata": {},
     "output_type": "execute_result"
    }
   ],
   "source": [
    "df2.Latitude[0]"
   ]
  },
  {
   "cell_type": "code",
   "execution_count": 11,
   "id": "ea926d05",
   "metadata": {
    "tags": []
   },
   "outputs": [
    {
     "name": "stdout",
     "output_type": "stream",
     "text": [
      "0.00041356492969396195\n",
      "0.041770057899090156\n",
      "0.08312655086848635\n",
      "0.12448304383788254\n",
      "0.16583953680727875\n",
      "0.20719602977667495\n",
      "0.24855252274607112\n",
      "0.28990901571546734\n",
      "0.33126550868486354\n",
      "0.37262200165425974\n",
      "0.41397849462365593\n",
      "0.45533498759305213\n",
      "0.49669148056244833\n",
      "0.5380479735318445\n",
      "0.5794044665012407\n",
      "0.6207609594706369\n",
      "0.6621174524400331\n",
      "0.7034739454094293\n",
      "0.7448304383788255\n",
      "0.7861869313482217\n",
      "0.8275434243176178\n",
      "0.8688999172870141\n",
      "0.9102564102564102\n",
      "0.9516129032258065\n",
      "0.9929693961952026\n"
     ]
    }
   ],
   "source": [
    "for i in range(len(df2)):\n",
    "    if i%100==1:print(i/len(df2))\n",
    "    make_aoi_shape_json_from_latlons(df2.Latitude[i],df2.Longitude[i]+0.1, df2.index[i], '/home/users/pete_nut/sentinel_industry/bingmaps/polys/coal/no_ind/')"
   ]
  },
  {
   "cell_type": "code",
   "execution_count": 12,
   "id": "324de2b5",
   "metadata": {
    "collapsed": true,
    "jupyter": {
     "outputs_hidden": true
    },
    "tags": []
   },
   "outputs": [
    {
     "name": "stdout",
     "output_type": "stream",
     "text": [
      "0.00041356492969396195\n",
      "0.041770057899090156\n",
      "0.08312655086848635\n",
      "0.12448304383788254\n",
      "0.16583953680727875\n",
      "0.20719602977667495\n",
      "0.24855252274607112\n",
      "0.28990901571546734\n",
      "0.33126550868486354\n",
      "0.37262200165425974\n",
      "0.41397849462365593\n",
      "0.45533498759305213\n",
      "0.49669148056244833\n",
      "0.5380479735318445\n",
      "0.5794044665012407\n",
      "0.6207609594706369\n",
      "0.6621174524400331\n",
      "0.7034739454094293\n",
      "0.7448304383788255\n",
      "0.7861869313482217\n",
      "0.8275434243176178\n",
      "0.8688999172870141\n",
      "0.9102564102564102\n",
      "0.9516129032258065\n",
      "0.9929693961952026\n"
     ]
    }
   ],
   "source": [
    "for i in range(len(df2)):\n",
    "    if i%100==1:print(i/len(df2))\n",
    "    make_aoi_shape_json_from_latlons(df2.Latitude[i],df2.Longitude[i], df2.index[i], '/home/users/pete_nut/sentinel_industry/bingmaps/polys/coal/')"
   ]
  },
  {
   "cell_type": "code",
   "execution_count": 13,
   "id": "47eaeb34",
   "metadata": {},
   "outputs": [],
   "source": [
    "# make_aoi_shape_json_from_latlons(xl.Latitude[0],xl.Longitude[0], xl['Tracker ID'][0], '/home/users/pete_nut/sentinel_industry/polys/coal/')"
   ]
  },
  {
   "cell_type": "markdown",
   "id": "7f98b7e6",
   "metadata": {},
   "source": [
    "## Steel Plants"
   ]
  },
  {
   "cell_type": "code",
   "execution_count": 14,
   "id": "12340629",
   "metadata": {},
   "outputs": [],
   "source": [
    "xl=pd.read_excel('/home/users/pete_nut/sentinel_industry/Global-Steel-Plant-Tracker-March-2022_corrected.xlsx', sheet_name=1)"
   ]
  },
  {
   "cell_type": "code",
   "execution_count": 15,
   "id": "6dbce6e5",
   "metadata": {},
   "outputs": [
    {
     "data": {
      "text/plain": [
       "36.753961"
      ]
     },
     "execution_count": 15,
     "metadata": {},
     "output_type": "execute_result"
    }
   ],
   "source": [
    "float(xl.Coordinates[0].split(', ')[0])"
   ]
  },
  {
   "cell_type": "code",
   "execution_count": 16,
   "id": "acb32dfe",
   "metadata": {},
   "outputs": [],
   "source": [
    "df=xl.loc[xl.Status=='operating'].loc[xl['Coordinate accuracy']=='exact']\n",
    "df3 = df.drop_duplicates(subset=[\"Coordinates\"], keep='first')"
   ]
  },
  {
   "cell_type": "code",
   "execution_count": 17,
   "id": "43c8880a",
   "metadata": {
    "collapsed": true,
    "jupyter": {
     "outputs_hidden": true
    },
    "tags": []
   },
   "outputs": [
    {
     "name": "stdout",
     "output_type": "stream",
     "text": [
      "0.0\n",
      "0.12\n",
      "0.24\n",
      "0.36\n",
      "0.48\n",
      "0.61\n",
      "0.73\n",
      "0.85\n",
      "0.97\n"
     ]
    }
   ],
   "source": [
    "for k,i in enumerate(df3.index):\n",
    "    if k%100==1:print(np.round(k/len(df3),2))\n",
    "    try: make_aoi_shape_json_from_latlons(float(df3.Coordinates[i].split(', ')[0]), float(df3.Coordinates[i].split(', ')[1]) , df3['Plant ID'][i], '/home/users/pete_nut/sentinel_industry/bingmaps/polys/steel/')\n",
    "    except ValueError: continue"
   ]
  },
  {
   "cell_type": "code",
   "execution_count": 19,
   "id": "612bbfba",
   "metadata": {
    "tags": []
   },
   "outputs": [
    {
     "name": "stdout",
     "output_type": "stream",
     "text": [
      "0.0\n",
      "0.12\n",
      "0.24\n",
      "0.36\n",
      "0.48\n",
      "0.61\n",
      "0.73\n",
      "0.85\n",
      "0.97\n"
     ]
    }
   ],
   "source": [
    "for k,i in enumerate(df3.index):\n",
    "    if k%100==1:print(np.round(k/len(df3),2))\n",
    "    try: make_aoi_shape_json_from_latlons(float(df3.Coordinates[i].split(', ')[0]), float(df3.Coordinates[i].split(', ')[1])+0.1 , df3['Plant ID'][i], '/home/users/pete_nut/sentinel_industry/bingmaps/polys/steel/no_ind/')\n",
    "    except ValueError: continue"
   ]
  },
  {
   "cell_type": "code",
   "execution_count": 20,
   "id": "88ce7280",
   "metadata": {},
   "outputs": [],
   "source": [
    "xl_a=pd.read_excel('/home/users/pete_nut/sentinel_industry/SFI-Global-Steel-Database-July-2021.xlsx', sheet_name=1)"
   ]
  },
  {
   "cell_type": "code",
   "execution_count": 21,
   "id": "34c539ce",
   "metadata": {},
   "outputs": [
    {
     "data": {
      "text/plain": [
       "Index(['uid', 'city', 'state', 'country', 'iso3', 'country_code', 'region',\n",
       "       'sub_region', 'latitude', 'longitude', 'accuracy', 'status',\n",
       "       'plant_type', 'primary_production_type', 'primary_product', 'capacity',\n",
       "       'capacity_source', 'year', 'owner_permid', 'owner_name', 'owner_source',\n",
       "       'parent_permid', 'parent_name', 'ownership_stake', 'parent_lei',\n",
       "       'parent_holding_status', 'parent_ticker', 'parent_exchange',\n",
       "       'parent_permid_2', 'parent_name_2', 'ownership_stake_2', 'parent_lei_2',\n",
       "       'parent_holding_status_2', 'parent_ticker_2', 'parent_exchange_2'],\n",
       "      dtype='object')"
      ]
     },
     "execution_count": 21,
     "metadata": {},
     "output_type": "execute_result"
    }
   ],
   "source": [
    "xl_a.keys()"
   ]
  },
  {
   "cell_type": "code",
   "execution_count": 22,
   "id": "5ad4209e",
   "metadata": {},
   "outputs": [],
   "source": [
    "df=xl_a.loc[xl_a.status=='Operating'].loc[xl_a.accuracy=='Exact']\n",
    "df4 = df.drop_duplicates(subset=[\"latitude\", \"longitude\"], keep='first')"
   ]
  },
  {
   "cell_type": "code",
   "execution_count": 23,
   "id": "b55ddcfe",
   "metadata": {},
   "outputs": [],
   "source": [
    "def extract_la(row):\n",
    "    lalo=row.Coordinates.split(',')\n",
    "    la=lalo[0]\n",
    "    return float(la)\n",
    "def extract_lo(row):\n",
    "    lalo=row.Coordinates.split(',')\n",
    "    lo=lalo[1]\n",
    "    return float(lo)"
   ]
  },
  {
   "cell_type": "code",
   "execution_count": 24,
   "id": "ee1ff34a",
   "metadata": {},
   "outputs": [],
   "source": [
    "df3['Latitude'] = df3.apply(extract_la, axis=1)\n",
    "df3['Longitude'] = df3.apply(extract_lo, axis=1)"
   ]
  },
  {
   "cell_type": "code",
   "execution_count": 25,
   "id": "6e06aacd",
   "metadata": {},
   "outputs": [
    {
     "data": {
      "text/html": [
       "<div>\n",
       "<style scoped>\n",
       "    .dataframe tbody tr th:only-of-type {\n",
       "        vertical-align: middle;\n",
       "    }\n",
       "\n",
       "    .dataframe tbody tr th {\n",
       "        vertical-align: top;\n",
       "    }\n",
       "\n",
       "    .dataframe thead th {\n",
       "        text-align: right;\n",
       "    }\n",
       "</style>\n",
       "<table border=\"1\" class=\"dataframe\">\n",
       "  <thead>\n",
       "    <tr style=\"text-align: right;\">\n",
       "      <th></th>\n",
       "      <th>Latitude</th>\n",
       "      <th>Longitude</th>\n",
       "    </tr>\n",
       "  </thead>\n",
       "  <tbody>\n",
       "    <tr>\n",
       "      <th>0</th>\n",
       "      <td>36.753961</td>\n",
       "      <td>6.244420</td>\n",
       "    </tr>\n",
       "    <tr>\n",
       "      <th>1</th>\n",
       "      <td>-8.582400</td>\n",
       "      <td>13.405271</td>\n",
       "    </tr>\n",
       "    <tr>\n",
       "      <th>2</th>\n",
       "      <td>36.795924</td>\n",
       "      <td>7.707633</td>\n",
       "    </tr>\n",
       "    <tr>\n",
       "      <th>4</th>\n",
       "      <td>35.770912</td>\n",
       "      <td>-0.263031</td>\n",
       "    </tr>\n",
       "    <tr>\n",
       "      <th>7</th>\n",
       "      <td>30.389174</td>\n",
       "      <td>30.571894</td>\n",
       "    </tr>\n",
       "    <tr>\n",
       "      <th>...</th>\n",
       "      <td>...</td>\n",
       "      <td>...</td>\n",
       "    </tr>\n",
       "    <tr>\n",
       "      <th>1193</th>\n",
       "      <td>38.884465</td>\n",
       "      <td>-90.145790</td>\n",
       "    </tr>\n",
       "    <tr>\n",
       "      <th>1194</th>\n",
       "      <td>33.534372</td>\n",
       "      <td>-86.757730</td>\n",
       "    </tr>\n",
       "    <tr>\n",
       "      <th>1195</th>\n",
       "      <td>33.962272</td>\n",
       "      <td>-81.052011</td>\n",
       "    </tr>\n",
       "    <tr>\n",
       "      <th>1196</th>\n",
       "      <td>35.978104</td>\n",
       "      <td>-83.956572</td>\n",
       "    </tr>\n",
       "    <tr>\n",
       "      <th>1197</th>\n",
       "      <td>33.285828</td>\n",
       "      <td>-111.586561</td>\n",
       "    </tr>\n",
       "  </tbody>\n",
       "</table>\n",
       "<p>827 rows × 2 columns</p>\n",
       "</div>"
      ],
      "text/plain": [
       "       Latitude   Longitude\n",
       "0     36.753961    6.244420\n",
       "1     -8.582400   13.405271\n",
       "2     36.795924    7.707633\n",
       "4     35.770912   -0.263031\n",
       "7     30.389174   30.571894\n",
       "...         ...         ...\n",
       "1193  38.884465  -90.145790\n",
       "1194  33.534372  -86.757730\n",
       "1195  33.962272  -81.052011\n",
       "1196  35.978104  -83.956572\n",
       "1197  33.285828 -111.586561\n",
       "\n",
       "[827 rows x 2 columns]"
      ]
     },
     "execution_count": 25,
     "metadata": {},
     "output_type": "execute_result"
    }
   ],
   "source": [
    "df3[['Latitude','Longitude']]"
   ]
  },
  {
   "cell_type": "code",
   "execution_count": 26,
   "id": "f1f6834a",
   "metadata": {},
   "outputs": [
    {
     "data": {
      "text/plain": [
       "0       False\n",
       "1        True\n",
       "2       False\n",
       "4        True\n",
       "7        True\n",
       "        ...  \n",
       "1193     True\n",
       "1194     True\n",
       "1195     True\n",
       "1196     True\n",
       "1197     True\n",
       "Length: 827, dtype: bool"
      ]
     },
     "execution_count": 26,
     "metadata": {},
     "output_type": "execute_result"
    }
   ],
   "source": [
    "(np.round(df3['Latitude'],2).isin(np.round(df4.latitude, 2)) & np.round(df3['Longitude'],2).isin(np.round(df4.longitude, 2)))"
   ]
  },
  {
   "cell_type": "code",
   "execution_count": 27,
   "id": "7beb1ccd",
   "metadata": {},
   "outputs": [],
   "source": [
    "df5=df4.loc[np.logical_not(np.round(df4.latitude, 2).isin(np.round(df3['Latitude'],2)) & np.round(df4.longitude, 2).isin(np.round(df3['Longitude'],2)))]"
   ]
  },
  {
   "cell_type": "code",
   "execution_count": 28,
   "id": "e2cd38f3",
   "metadata": {
    "tags": []
   },
   "outputs": [
    {
     "name": "stdout",
     "output_type": "stream",
     "text": [
      "0.0008968609865470852\n",
      "0.09058295964125561\n",
      "0.18026905829596412\n",
      "0.2699551569506726\n",
      "0.3596412556053812\n",
      "0.4493273542600897\n",
      "0.5390134529147982\n",
      "0.6286995515695067\n",
      "0.7183856502242153\n",
      "0.8080717488789237\n",
      "0.8977578475336323\n",
      "0.9874439461883409\n"
     ]
    }
   ],
   "source": [
    "for k,i in enumerate(df5.index):\n",
    "    if k%100==1:print(k/len(df5))\n",
    "    # try: \n",
    "    make_aoi_shape_json_from_latlons(df5.latitude[i],df5.longitude[i], df5['uid'][i], '/home/users/pete_nut/sentinel_industry/bingmaps/polys/steel/')\n",
    "    # except ValueError: continue"
   ]
  },
  {
   "cell_type": "code",
   "execution_count": 29,
   "id": "9f4a2bc5",
   "metadata": {
    "tags": []
   },
   "outputs": [
    {
     "name": "stdout",
     "output_type": "stream",
     "text": [
      "0.0008968609865470852\n",
      "0.09058295964125561\n",
      "0.18026905829596412\n",
      "0.2699551569506726\n",
      "0.3596412556053812\n",
      "0.4493273542600897\n",
      "0.5390134529147982\n",
      "0.6286995515695067\n",
      "0.7183856502242153\n",
      "0.8080717488789237\n",
      "0.8977578475336323\n",
      "0.9874439461883409\n"
     ]
    }
   ],
   "source": [
    "for k,i in enumerate(df5.index):\n",
    "    if k%100==1:print(k/len(df5))\n",
    "    # try: \n",
    "    make_aoi_shape_json_from_latlons(df5.latitude[i],df5.longitude[i]+0.1, df5['uid'][i], '/home/users/pete_nut/sentinel_industry/bingmaps/polys/steel/no_ind/')\n",
    "    # except ValueError: continue"
   ]
  },
  {
   "cell_type": "code",
   "execution_count": null,
   "id": "7114b282",
   "metadata": {},
   "outputs": [],
   "source": []
  }
 ],
 "metadata": {
  "kernelspec": {
   "display_name": "Python 3",
   "language": "python",
   "name": "python3"
  },
  "language_info": {
   "codemirror_mode": {
    "name": "ipython",
    "version": 3
   },
   "file_extension": ".py",
   "mimetype": "text/x-python",
   "name": "python",
   "nbconvert_exporter": "python",
   "pygments_lexer": "ipython3",
   "version": "3.8.0"
  }
 },
 "nbformat": 4,
 "nbformat_minor": 5
}
