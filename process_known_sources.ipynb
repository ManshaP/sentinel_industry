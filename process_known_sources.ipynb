{
 "cells": [
  {
   "cell_type": "code",
   "execution_count": 2,
   "id": "ac8d743a",
   "metadata": {},
   "outputs": [],
   "source": [
    "import pandas as pd"
   ]
  },
  {
   "cell_type": "code",
   "execution_count": 3,
   "id": "0f5d2360",
   "metadata": {},
   "outputs": [],
   "source": [
    "import openpyxl\n",
    "import numpy as np\n",
    "import shapely\n",
    "from shapely.geometry import Point, Polygon, box, GeometryCollection, MultiPolygon\n",
    "import pyproj\n",
    "import pickle\n"
   ]
  },
  {
   "cell_type": "code",
   "execution_count": null,
   "id": "42b7ceef",
   "metadata": {},
   "outputs": [],
   "source": [
    "#  31.151668, 117.455353 "
   ]
  },
  {
   "cell_type": "code",
   "execution_count": 127,
   "id": "cf7c27d9",
   "metadata": {},
   "outputs": [],
   "source": [
    "xl=pd.read_excel('E:/Users/sentinel_industry/Global-Coal-Plant-Tracker-Jan-2022.xlsx', sheet_name=1)"
   ]
  },
  {
   "cell_type": "code",
   "execution_count": 24,
   "id": "babb83ba",
   "metadata": {},
   "outputs": [
    {
     "data": {
      "text/plain": [
       "2415"
      ]
     },
     "execution_count": 24,
     "metadata": {},
     "output_type": "execute_result"
    }
   ],
   "source": [
    "len(pd.unique(xl.loc[xl.Status=='operating'].loc[xl.Accuracy=='exact'].Latitude))"
   ]
  },
  {
   "cell_type": "code",
   "execution_count": 128,
   "id": "87097e6d",
   "metadata": {},
   "outputs": [],
   "source": [
    "df=xl.loc[xl.Status=='operating'].loc[xl.Accuracy=='exact']\n",
    "df2 = df.drop_duplicates(subset=[\"Latitude\", \"Longitude\"], keep='first')"
   ]
  },
  {
   "cell_type": "code",
   "execution_count": 129,
   "id": "be89be3a",
   "metadata": {},
   "outputs": [],
   "source": [
    "df2=df2.set_index('Tracker ID')"
   ]
  },
  {
   "cell_type": "code",
   "execution_count": 130,
   "id": "64de72d8",
   "metadata": {},
   "outputs": [
    {
     "data": {
      "text/plain": [
       "-22.5195"
      ]
     },
     "execution_count": 130,
     "metadata": {},
     "output_type": "execute_result"
    }
   ],
   "source": [
    "df2.Latitude[0]"
   ]
  },
  {
   "cell_type": "code",
   "execution_count": 136,
   "id": "1b6c5fd4",
   "metadata": {},
   "outputs": [
    {
     "name": "stdout",
     "output_type": "stream",
     "text": [
      "0.00041356492969396195\n",
      "0.041770057899090156\n",
      "0.08312655086848635\n",
      "0.12448304383788254\n",
      "0.16583953680727875\n",
      "0.20719602977667495\n",
      "0.24855252274607112\n",
      "0.28990901571546734\n",
      "0.33126550868486354\n",
      "0.37262200165425974\n",
      "0.41397849462365593\n",
      "0.45533498759305213\n",
      "0.49669148056244833\n",
      "0.5380479735318445\n",
      "0.5794044665012407\n",
      "0.6207609594706369\n",
      "0.6621174524400331\n",
      "0.7034739454094293\n",
      "0.7448304383788255\n",
      "0.7861869313482217\n",
      "0.8275434243176178\n",
      "0.8688999172870141\n",
      "0.9102564102564102\n",
      "0.9516129032258065\n",
      "0.9929693961952026\n"
     ]
    }
   ],
   "source": [
    "for i in range(len(df2)):\n",
    "    if i%100==1:print(i/len(df2))\n",
    "    make_aoi_shape_from_latlons(df2.Latitude[i],df2.Longitude[i]+0.1, df2.index[i], 'E:/Users/sentinel_industry/polys/coal/no_ind/')"
   ]
  },
  {
   "cell_type": "code",
   "execution_count": null,
   "id": "b04a3399",
   "metadata": {},
   "outputs": [],
   "source": [
    "svpath='E:/Users/sentinel_industry/polys/coal/'"
   ]
  },
  {
   "cell_type": "code",
   "execution_count": 7,
   "id": "55cecf0b",
   "metadata": {},
   "outputs": [],
   "source": [
    "def make_aoi_shape_from_latlons(la, lo, tracker_id, savepath):\n",
    "        la_dist = 1/111.32 * 1.4  \n",
    "        lo_dist = 1/np.cos(la*np.pi/180) * la_dist\n",
    "        coords=((lo-lo_dist, la-la_dist),(lo-lo_dist, la+la_dist),(lo+lo_dist, la+la_dist),(lo+lo_dist, la-la_dist))\n",
    "        shape= Polygon(coords)\n",
    "        with open(savepath+tracker_id, \"wb\") as poly_file:\n",
    "            pickle.dump(shape, poly_file, pickle.HIGHEST_PROTOCOL)\n",
    "        .to_file('test.geojson', driver='GeoJSON')"
   ]
  },
  {
   "cell_type": "code",
   "execution_count": 8,
   "id": "fa46cf31",
   "metadata": {},
   "outputs": [
    {
     "ename": "AttributeError",
     "evalue": "'DataFrame' object has no attribute 'Latitude'",
     "output_type": "error",
     "traceback": [
      "\u001b[1;31m---------------------------------------------------------------------------\u001b[0m",
      "\u001b[1;31mAttributeError\u001b[0m                            Traceback (most recent call last)",
      "Input \u001b[1;32mIn [8]\u001b[0m, in \u001b[0;36m<cell line: 1>\u001b[1;34m()\u001b[0m\n\u001b[1;32m----> 1\u001b[0m la\u001b[38;5;241m=\u001b[39m\u001b[43mxl\u001b[49m\u001b[38;5;241;43m.\u001b[39;49m\u001b[43mLatitude\u001b[49m[\u001b[38;5;241m0\u001b[39m]\n\u001b[0;32m      2\u001b[0m lo\u001b[38;5;241m=\u001b[39mxl\u001b[38;5;241m.\u001b[39mLongitude[\u001b[38;5;241m0\u001b[39m]\n",
      "File \u001b[1;32mC:\\Anaconda3_64\\envs\\geopandas\\lib\\site-packages\\pandas\\core\\generic.py:5575\u001b[0m, in \u001b[0;36mNDFrame.__getattr__\u001b[1;34m(self, name)\u001b[0m\n\u001b[0;32m   5568\u001b[0m \u001b[38;5;28;01mif\u001b[39;00m (\n\u001b[0;32m   5569\u001b[0m     name \u001b[38;5;129;01mnot\u001b[39;00m \u001b[38;5;129;01min\u001b[39;00m \u001b[38;5;28mself\u001b[39m\u001b[38;5;241m.\u001b[39m_internal_names_set\n\u001b[0;32m   5570\u001b[0m     \u001b[38;5;129;01mand\u001b[39;00m name \u001b[38;5;129;01mnot\u001b[39;00m \u001b[38;5;129;01min\u001b[39;00m \u001b[38;5;28mself\u001b[39m\u001b[38;5;241m.\u001b[39m_metadata\n\u001b[0;32m   5571\u001b[0m     \u001b[38;5;129;01mand\u001b[39;00m name \u001b[38;5;129;01mnot\u001b[39;00m \u001b[38;5;129;01min\u001b[39;00m \u001b[38;5;28mself\u001b[39m\u001b[38;5;241m.\u001b[39m_accessors\n\u001b[0;32m   5572\u001b[0m     \u001b[38;5;129;01mand\u001b[39;00m \u001b[38;5;28mself\u001b[39m\u001b[38;5;241m.\u001b[39m_info_axis\u001b[38;5;241m.\u001b[39m_can_hold_identifiers_and_holds_name(name)\n\u001b[0;32m   5573\u001b[0m ):\n\u001b[0;32m   5574\u001b[0m     \u001b[38;5;28;01mreturn\u001b[39;00m \u001b[38;5;28mself\u001b[39m[name]\n\u001b[1;32m-> 5575\u001b[0m \u001b[38;5;28;01mreturn\u001b[39;00m \u001b[38;5;28;43mobject\u001b[39;49m\u001b[38;5;241;43m.\u001b[39;49m\u001b[38;5;21;43m__getattribute__\u001b[39;49m\u001b[43m(\u001b[49m\u001b[38;5;28;43mself\u001b[39;49m\u001b[43m,\u001b[49m\u001b[43m \u001b[49m\u001b[43mname\u001b[49m\u001b[43m)\u001b[49m\n",
      "\u001b[1;31mAttributeError\u001b[0m: 'DataFrame' object has no attribute 'Latitude'"
     ]
    }
   ],
   "source": [
    "la=xl.Latitude[0]\n",
    "lo=xl.Longitude[0]"
   ]
  },
  {
   "cell_type": "code",
   "execution_count": 21,
   "id": "cef02220",
   "metadata": {},
   "outputs": [],
   "source": [
    "\n",
    "make_aoi_shape_from_latlons(xl.Latitude[0],xl.Longitude[0], xl['Tracker ID'][0], 'E:/Users/sentinel_industry/polys/coal/')"
   ]
  },
  {
   "cell_type": "markdown",
   "id": "fcde5e34",
   "metadata": {},
   "source": [
    "## Steel Plants"
   ]
  },
  {
   "cell_type": "code",
   "execution_count": 4,
   "id": "c0fdb932",
   "metadata": {},
   "outputs": [],
   "source": [
    "xl=pd.read_excel('E:/Users/sentinel_industry/Global-Steel-Plant-Tracker-March-2022_corrected.xlsx', sheet_name=1)"
   ]
  },
  {
   "cell_type": "code",
   "execution_count": 5,
   "id": "09e7ef94",
   "metadata": {},
   "outputs": [
    {
     "data": {
      "text/plain": [
       "36.753961"
      ]
     },
     "execution_count": 5,
     "metadata": {},
     "output_type": "execute_result"
    }
   ],
   "source": [
    "float(xl.Coordinates[0].split(', ')[0])"
   ]
  },
  {
   "cell_type": "code",
   "execution_count": 6,
   "id": "caa38177",
   "metadata": {},
   "outputs": [],
   "source": [
    "df=xl.loc[xl.Status=='operating'].loc[xl['Coordinate accuracy']=='exact']\n",
    "df3 = df.drop_duplicates(subset=[\"Coordinates\"], keep='first')"
   ]
  },
  {
   "cell_type": "code",
   "execution_count": 9,
   "id": "dae733b2",
   "metadata": {},
   "outputs": [
    {
     "name": "stdout",
     "output_type": "stream",
     "text": [
      "0.0\n",
      "0.12\n",
      "0.24\n",
      "0.36\n",
      "0.48\n",
      "0.61\n",
      "0.73\n",
      "0.85\n",
      "0.97\n"
     ]
    }
   ],
   "source": [
    "for k,i in enumerate(df3.index):\n",
    "    if k%100==1:print(np.round(k/len(df3),2))\n",
    "    try: make_aoi_shape_from_latlons(float(df3.Coordinates[i].split(', ')[0]), float(df3.Coordinates[i].split(', ')[1]) , df3['Plant ID'][i], 'E:/Users/sentinel_industry/polys/steel/')\n",
    "    except ValueError: continue"
   ]
  },
  {
   "cell_type": "code",
   "execution_count": 10,
   "id": "dda0952c",
   "metadata": {},
   "outputs": [],
   "source": [
    "xl_a=pd.read_excel('E:/Users/sentinel_industry/SFI-Global-Steel-Database-July-2021.xlsx', sheet_name=1)"
   ]
  },
  {
   "cell_type": "code",
   "execution_count": 11,
   "id": "59605845",
   "metadata": {},
   "outputs": [
    {
     "data": {
      "text/plain": [
       "Index(['uid', 'city', 'state', 'country', 'iso3', 'country_code', 'region',\n",
       "       'sub_region', 'latitude', 'longitude', 'accuracy', 'status',\n",
       "       'plant_type', 'primary_production_type', 'primary_product', 'capacity',\n",
       "       'capacity_source', 'year', 'owner_permid', 'owner_name', 'owner_source',\n",
       "       'parent_permid', 'parent_name', 'ownership_stake', 'parent_lei',\n",
       "       'parent_holding_status', 'parent_ticker', 'parent_exchange',\n",
       "       'parent_permid_2', 'parent_name_2', 'ownership_stake_2', 'parent_lei_2',\n",
       "       'parent_holding_status_2', 'parent_ticker_2', 'parent_exchange_2'],\n",
       "      dtype='object')"
      ]
     },
     "execution_count": 11,
     "metadata": {},
     "output_type": "execute_result"
    }
   ],
   "source": [
    "xl_a.keys()"
   ]
  },
  {
   "cell_type": "code",
   "execution_count": 12,
   "id": "83872513",
   "metadata": {},
   "outputs": [],
   "source": [
    "df=xl_a.loc[xl_a.status=='Operating'].loc[xl_a.accuracy=='Exact']\n",
    "df4 = df.drop_duplicates(subset=[\"latitude\", \"longitude\"], keep='first')"
   ]
  },
  {
   "cell_type": "code",
   "execution_count": 18,
   "id": "48137348",
   "metadata": {},
   "outputs": [],
   "source": [
    "def extract_la(row):\n",
    "    lalo=row.Coordinates.split(',')\n",
    "    la=lalo[0]\n",
    "    return float(la)\n",
    "def extract_lo(row):\n",
    "    lalo=row.Coordinates.split(',')\n",
    "    lo=lalo[1]\n",
    "    return float(lo)"
   ]
  },
  {
   "cell_type": "code",
   "execution_count": 14,
   "id": "6e8963f3",
   "metadata": {},
   "outputs": [],
   "source": [
    "df3['Latitude'] = df3.apply(extract_la, axis=1)\n",
    "df3['Longitude'] = df3.apply(extract_lo, axis=1)"
   ]
  },
  {
   "cell_type": "code",
   "execution_count": 21,
   "id": "4152afd9",
   "metadata": {},
   "outputs": [
    {
     "data": {
      "text/html": [
       "<div>\n",
       "<style scoped>\n",
       "    .dataframe tbody tr th:only-of-type {\n",
       "        vertical-align: middle;\n",
       "    }\n",
       "\n",
       "    .dataframe tbody tr th {\n",
       "        vertical-align: top;\n",
       "    }\n",
       "\n",
       "    .dataframe thead th {\n",
       "        text-align: right;\n",
       "    }\n",
       "</style>\n",
       "<table border=\"1\" class=\"dataframe\">\n",
       "  <thead>\n",
       "    <tr style=\"text-align: right;\">\n",
       "      <th></th>\n",
       "      <th>Latitude</th>\n",
       "      <th>Longitude</th>\n",
       "    </tr>\n",
       "  </thead>\n",
       "  <tbody>\n",
       "    <tr>\n",
       "      <th>0</th>\n",
       "      <td>36.753961</td>\n",
       "      <td>6.244420</td>\n",
       "    </tr>\n",
       "    <tr>\n",
       "      <th>1</th>\n",
       "      <td>-8.582400</td>\n",
       "      <td>13.405271</td>\n",
       "    </tr>\n",
       "    <tr>\n",
       "      <th>2</th>\n",
       "      <td>36.795924</td>\n",
       "      <td>7.707633</td>\n",
       "    </tr>\n",
       "    <tr>\n",
       "      <th>4</th>\n",
       "      <td>35.770912</td>\n",
       "      <td>-0.263031</td>\n",
       "    </tr>\n",
       "    <tr>\n",
       "      <th>7</th>\n",
       "      <td>30.389174</td>\n",
       "      <td>30.571894</td>\n",
       "    </tr>\n",
       "    <tr>\n",
       "      <th>...</th>\n",
       "      <td>...</td>\n",
       "      <td>...</td>\n",
       "    </tr>\n",
       "    <tr>\n",
       "      <th>1193</th>\n",
       "      <td>38.884465</td>\n",
       "      <td>-90.145790</td>\n",
       "    </tr>\n",
       "    <tr>\n",
       "      <th>1194</th>\n",
       "      <td>33.534372</td>\n",
       "      <td>-86.757730</td>\n",
       "    </tr>\n",
       "    <tr>\n",
       "      <th>1195</th>\n",
       "      <td>33.962272</td>\n",
       "      <td>-81.052011</td>\n",
       "    </tr>\n",
       "    <tr>\n",
       "      <th>1196</th>\n",
       "      <td>35.978104</td>\n",
       "      <td>-83.956572</td>\n",
       "    </tr>\n",
       "    <tr>\n",
       "      <th>1197</th>\n",
       "      <td>33.285828</td>\n",
       "      <td>-111.586561</td>\n",
       "    </tr>\n",
       "  </tbody>\n",
       "</table>\n",
       "<p>827 rows × 2 columns</p>\n",
       "</div>"
      ],
      "text/plain": [
       "       Latitude   Longitude\n",
       "0     36.753961    6.244420\n",
       "1     -8.582400   13.405271\n",
       "2     36.795924    7.707633\n",
       "4     35.770912   -0.263031\n",
       "7     30.389174   30.571894\n",
       "...         ...         ...\n",
       "1193  38.884465  -90.145790\n",
       "1194  33.534372  -86.757730\n",
       "1195  33.962272  -81.052011\n",
       "1196  35.978104  -83.956572\n",
       "1197  33.285828 -111.586561\n",
       "\n",
       "[827 rows x 2 columns]"
      ]
     },
     "execution_count": 21,
     "metadata": {},
     "output_type": "execute_result"
    }
   ],
   "source": [
    "df3[['Latitude','Longitude']]"
   ]
  },
  {
   "cell_type": "code",
   "execution_count": 15,
   "id": "b1abc9a7",
   "metadata": {},
   "outputs": [
    {
     "data": {
      "text/plain": [
       "0       False\n",
       "1        True\n",
       "2       False\n",
       "4        True\n",
       "7        True\n",
       "        ...  \n",
       "1193     True\n",
       "1194     True\n",
       "1195     True\n",
       "1196     True\n",
       "1197     True\n",
       "Length: 827, dtype: bool"
      ]
     },
     "execution_count": 15,
     "metadata": {},
     "output_type": "execute_result"
    }
   ],
   "source": [
    "(np.round(df3['Latitude'],2).isin(np.round(df4.latitude, 2)) & np.round(df3['Longitude'],2).isin(np.round(df4.longitude, 2)))"
   ]
  },
  {
   "cell_type": "code",
   "execution_count": 16,
   "id": "5586790b",
   "metadata": {},
   "outputs": [],
   "source": [
    "df5=df4.loc[np.logical_not(np.round(df4.latitude, 2).isin(np.round(df3['Latitude'],2)) & np.round(df4.longitude, 2).isin(np.round(df3['Longitude'],2)))]"
   ]
  },
  {
   "cell_type": "code",
   "execution_count": 17,
   "id": "bb82e2bf",
   "metadata": {},
   "outputs": [
    {
     "name": "stdout",
     "output_type": "stream",
     "text": [
      "0.0008968609865470852\n",
      "0.09058295964125561\n",
      "0.18026905829596412\n",
      "0.2699551569506726\n",
      "0.3596412556053812\n",
      "0.4493273542600897\n",
      "0.5390134529147982\n",
      "0.6286995515695067\n",
      "0.7183856502242153\n",
      "0.8080717488789237\n",
      "0.8977578475336323\n",
      "0.9874439461883409\n"
     ]
    }
   ],
   "source": [
    "for k,i in enumerate(df5.index):\n",
    "    if k%100==1:print(k/len(df5))\n",
    "    # try: \n",
    "    make_aoi_shape_from_latlons(df5.latitude[i],df5.longitude[i], df5['uid'][i], 'E:/Users/sentinel_industry/polys/steel/')\n",
    "    # except ValueError: continue"
   ]
  },
  {
   "cell_type": "code",
   "execution_count": null,
   "id": "63aad5e0",
   "metadata": {},
   "outputs": [],
   "source": []
  }
 ],
 "metadata": {
  "kernelspec": {
   "display_name": "Python 3 (ipykernel)",
   "language": "python",
   "name": "python3"
  },
  "language_info": {
   "codemirror_mode": {
    "name": "ipython",
    "version": 3
   },
   "file_extension": ".py",
   "mimetype": "text/x-python",
   "name": "python",
   "nbconvert_exporter": "python",
   "pygments_lexer": "ipython3",
   "version": "3.8.13"
  }
 },
 "nbformat": 4,
 "nbformat_minor": 5
}
