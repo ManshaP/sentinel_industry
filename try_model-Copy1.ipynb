{
 "cells": [
  {
   "cell_type": "code",
   "execution_count": 1,
   "id": "37fde579-c955-4a16-a019-5ab53a8e56a5",
   "metadata": {},
   "outputs": [],
   "source": [
    "# import matplotlib.pyplot as plt\n",
    "import numpy as np\n",
    "import os\n",
    "# import PIL\n",
    "import tensorflow as tf\n",
    "import pickle5 as pickle\n",
    "from tensorflow import keras\n",
    "from tensorflow.keras import layers\n",
    "from tensorflow.keras.models import Sequential\n",
    "import glob\n",
    "import os\n",
    "from random import shuffle"
   ]
  },
  {
   "cell_type": "code",
   "execution_count": 4,
   "id": "b66261ba-17fe-480c-9183-4da85687fbde",
   "metadata": {},
   "outputs": [],
   "source": [
    "import keras_tuner"
   ]
  },
  {
   "cell_type": "code",
   "execution_count": 4,
   "id": "9a7861f1-40fe-409a-aee9-00c514f67b35",
   "metadata": {},
   "outputs": [
    {
     "name": "stdout",
     "output_type": "stream",
     "text": [
      "# packages in environment at C:\\Anaconda3_64\\envs\\minitf:\n",
      "#\n",
      "# Name                    Version                   Build  Channel\n",
      "absl-py                   0.15.0                   pypi_0    pypi\n",
      "anyio                     3.6.1                    pypi_0    pypi\n",
      "argon2-cffi               21.3.0                   pypi_0    pypi\n",
      "argon2-cffi-bindings      21.2.0                   pypi_0    pypi\n",
      "astunparse                1.6.3                    pypi_0    pypi\n",
      "async-generator           1.10                     pypi_0    pypi\n",
      "attrs                     21.4.0                   pypi_0    pypi\n",
      "babel                     2.10.3                   pypi_0    pypi\n",
      "backcall                  0.2.0                    pypi_0    pypi\n",
      "bleach                    4.1.0                    pypi_0    pypi\n",
      "ca-certificates           2022.6.15            h5b45459_0    conda-forge\n",
      "cached-property           1.5.2                    pypi_0    pypi\n",
      "cachetools                4.2.4                    pypi_0    pypi\n",
      "certifi                   2022.6.15                pypi_0    pypi\n",
      "cffi                      1.15.1                   pypi_0    pypi\n",
      "charset-normalizer        2.0.12                   pypi_0    pypi\n",
      "clang                     5.0                      pypi_0    pypi\n",
      "colorama                  0.4.5                    pypi_0    pypi\n",
      "contextvars               2.4                      pypi_0    pypi\n",
      "cycler                    0.11.0             pyhd8ed1ab_0    conda-forge\n",
      "dataclasses               0.8                      pypi_0    pypi\n",
      "decorator                 5.1.1                    pypi_0    pypi\n",
      "defusedxml                0.7.1                    pypi_0    pypi\n",
      "entrypoints               0.4                      pypi_0    pypi\n",
      "flatbuffers               1.12                     pypi_0    pypi\n",
      "freetype                  2.10.4               h546665d_1    conda-forge\n",
      "gast                      0.4.0                    pypi_0    pypi\n",
      "git                       2.37.1               h57928b3_0    conda-forge\n",
      "google-auth               1.35.0                   pypi_0    pypi\n",
      "google-auth-oauthlib      0.4.6                    pypi_0    pypi\n",
      "google-pasta              0.2.0                    pypi_0    pypi\n",
      "grpcio                    1.47.0                   pypi_0    pypi\n",
      "h5py                      3.1.0                    pypi_0    pypi\n",
      "icu                       69.1                 h0e60522_0    conda-forge\n",
      "idna                      3.3                      pypi_0    pypi\n",
      "immutables                0.18                     pypi_0    pypi\n",
      "importlib-metadata        4.8.3                    pypi_0    pypi\n",
      "intel-openmp              2022.1.0          h57928b3_3787    conda-forge\n",
      "ipykernel                 5.5.6                    pypi_0    pypi\n",
      "ipython                   7.16.3                   pypi_0    pypi\n",
      "ipython-genutils          0.2.0                    pypi_0    pypi\n",
      "jedi                      0.17.2                   pypi_0    pypi\n",
      "jinja2                    3.0.3                    pypi_0    pypi\n",
      "jpeg                      9e                   h8ffe710_2    conda-forge\n",
      "json5                     0.9.8                    pypi_0    pypi\n",
      "jsonschema                3.2.0                    pypi_0    pypi\n",
      "jupyter-client            7.1.2                    pypi_0    pypi\n",
      "jupyter-core              4.9.2                    pypi_0    pypi\n",
      "jupyter-server            1.13.1                   pypi_0    pypi\n",
      "jupyterlab                3.2.9                    pypi_0    pypi\n",
      "jupyterlab-pygments       0.1.2                    pypi_0    pypi\n",
      "jupyterlab-server         2.10.3                   pypi_0    pypi\n",
      "keras                     2.6.0                    pypi_0    pypi\n",
      "keras-preprocessing       1.1.2                    pypi_0    pypi\n",
      "kiwisolver                1.3.1            py36he95197e_1    conda-forge\n",
      "lcms2                     2.12                 h2a16943_0    conda-forge\n",
      "lerc                      3.0                  h0e60522_0    conda-forge\n",
      "libblas                   3.9.0              15_win64_mkl    conda-forge\n",
      "libcblas                  3.9.0              15_win64_mkl    conda-forge\n",
      "libclang                  13.0.1          default_h81446c8_0    conda-forge\n",
      "libdeflate                1.10                 h8ffe710_0    conda-forge\n",
      "liblapack                 3.9.0              15_win64_mkl    conda-forge\n",
      "libpng                    1.6.37               h1d00b33_3    conda-forge\n",
      "libtiff                   4.3.0                hc4061b1_4    conda-forge\n",
      "libzlib                   1.2.12               h8ffe710_2    conda-forge\n",
      "lz4-c                     1.9.3                h8ffe710_1    conda-forge\n",
      "markdown                  3.3.7                    pypi_0    pypi\n",
      "markupsafe                2.0.1                    pypi_0    pypi\n",
      "matplotlib                3.3.4            py36ha15d459_0    conda-forge\n",
      "matplotlib-base           3.3.4            py36h1abdf75_0    conda-forge\n",
      "mistune                   0.8.4                    pypi_0    pypi\n",
      "mkl                       2022.1.0           h6a75c08_874    conda-forge\n",
      "nbclassic                 0.3.5                    pypi_0    pypi\n",
      "nbclient                  0.5.9                    pypi_0    pypi\n",
      "nbconvert                 6.0.7                    pypi_0    pypi\n",
      "nbformat                  5.1.3                    pypi_0    pypi\n",
      "nest-asyncio              1.5.5                    pypi_0    pypi\n",
      "notebook                  6.4.10                   pypi_0    pypi\n",
      "numpy                     1.19.5           py36h4b40d73_2    conda-forge\n",
      "oauthlib                  3.2.0                    pypi_0    pypi\n",
      "olefile                   0.46               pyh9f0ad1d_1    conda-forge\n",
      "openjpeg                  2.4.0                hb211442_1    conda-forge\n",
      "openssl                   1.1.1q               h8ffe710_0    conda-forge\n",
      "opt-einsum                3.3.0                    pypi_0    pypi\n",
      "packaging                 21.3                     pypi_0    pypi\n",
      "pandocfilters             1.5.0                    pypi_0    pypi\n",
      "parso                     0.7.1                    pypi_0    pypi\n",
      "pickle5                   0.0.12                   pypi_0    pypi\n",
      "pickleshare               0.7.5                    pypi_0    pypi\n",
      "pillow                    8.3.2            py36h10c25d6_0    conda-forge\n",
      "pip                       21.3.1             pyhd8ed1ab_0    conda-forge\n",
      "prometheus-client         0.14.1                   pypi_0    pypi\n",
      "prompt-toolkit            3.0.30                   pypi_0    pypi\n",
      "protobuf                  3.19.4                   pypi_0    pypi\n",
      "pyasn1                    0.4.8                    pypi_0    pypi\n",
      "pyasn1-modules            0.2.8                    pypi_0    pypi\n",
      "pycparser                 2.21                     pypi_0    pypi\n",
      "pygments                  2.12.0                   pypi_0    pypi\n",
      "pyparsing                 3.0.9              pyhd8ed1ab_0    conda-forge\n",
      "pyqt                      5.12.3           py36ha15d459_7    conda-forge\n",
      "pyqt-impl                 5.12.3           py36he2d232f_7    conda-forge\n",
      "pyqt5-sip                 4.19.18          py36he2d232f_7    conda-forge\n",
      "pyqtchart                 5.12             py36he2d232f_7    conda-forge\n",
      "pyqtwebengine             5.12.1           py36he2d232f_7    conda-forge\n",
      "pyrsistent                0.18.0                   pypi_0    pypi\n",
      "python                    3.6.15          h39d44d4_0_cpython    conda-forge\n",
      "python-dateutil           2.8.2              pyhd8ed1ab_0    conda-forge\n",
      "python_abi                3.6                     2_cp36m    conda-forge\n",
      "pytz                      2022.1                   pypi_0    pypi\n",
      "pywin32                   304                      pypi_0    pypi\n",
      "pywinpty                  1.1.6                    pypi_0    pypi\n",
      "pyzmq                     23.2.0                   pypi_0    pypi\n",
      "qt                        5.12.9               h556501e_6    conda-forge\n",
      "requests                  2.27.1                   pypi_0    pypi\n",
      "requests-oauthlib         1.3.1                    pypi_0    pypi\n",
      "rsa                       4.8                      pypi_0    pypi\n",
      "send2trash                1.8.0                    pypi_0    pypi\n",
      "setuptools                58.0.4           py36ha15d459_2    conda-forge\n",
      "six                       1.15.0                   pypi_0    pypi\n",
      "sniffio                   1.2.0                    pypi_0    pypi\n",
      "sqlite                    3.39.0               h8ffe710_0    conda-forge\n",
      "tbb                       2021.5.0             h2d74725_1    conda-forge\n",
      "tensorboard               2.6.0                    pypi_0    pypi\n",
      "tensorboard-data-server   0.6.1                    pypi_0    pypi\n",
      "tensorboard-plugin-wit    1.8.1                    pypi_0    pypi\n",
      "tensorflow                2.6.2                    pypi_0    pypi\n",
      "tensorflow-estimator      2.6.0                    pypi_0    pypi\n",
      "termcolor                 1.1.0                    pypi_0    pypi\n",
      "terminado                 0.12.1                   pypi_0    pypi\n",
      "testpath                  0.6.0                    pypi_0    pypi\n",
      "tk                        8.6.12               h8ffe710_0    conda-forge\n",
      "tornado                   6.1              py36h68aa20f_1    conda-forge\n",
      "traitlets                 4.3.3                    pypi_0    pypi\n",
      "typing-extensions         3.7.4.3                  pypi_0    pypi\n",
      "ucrt                      10.0.20348.0         h57928b3_0    conda-forge\n",
      "urllib3                   1.26.10                  pypi_0    pypi\n",
      "vc                        14.2                 hb210afc_6    conda-forge\n",
      "vs2015_runtime            14.29.30037          h902a5da_6    conda-forge\n",
      "wcwidth                   0.2.5                    pypi_0    pypi\n",
      "webencodings              0.5.1                    pypi_0    pypi\n",
      "websocket-client          1.3.1                    pypi_0    pypi\n",
      "werkzeug                  2.0.3                    pypi_0    pypi\n",
      "wheel                     0.37.1             pyhd8ed1ab_0    conda-forge\n",
      "wrapt                     1.12.1                   pypi_0    pypi\n",
      "xz                        5.2.5                h62dcd97_1    conda-forge\n",
      "zipp                      3.6.0                    pypi_0    pypi\n",
      "zlib                      1.2.12               h8ffe710_2    conda-forge\n",
      "zstd                      1.5.2                h6255e5f_2    conda-forge\n"
     ]
    }
   ],
   "source": [
    "! conda list"
   ]
  },
  {
   "cell_type": "code",
   "execution_count": null,
   "id": "3f12c078-c191-4287-9704-f1ffca001cb1",
   "metadata": {},
   "outputs": [],
   "source": [
    "# import pathlib\n",
    "# data_dir = pathlib.Path('E:/Users/sentinel_industry/downloaded_aois/')\n"
   ]
  },
  {
   "cell_type": "code",
   "execution_count": null,
   "id": "7bd5a4a4-fad7-449a-99c2-7f42e8090a12",
   "metadata": {},
   "outputs": [],
   "source": [
    "x_size = 230\n",
    "y_size = 230\n",
    "def load_features(name):\n",
    "    decoded = name.decode(\"UTF-8\")\n",
    "    if os.path.exists(decoded):\n",
    "        with open(decoded, 'rb') as f:\n",
    "            file = pickle.load(f)\n",
    "            label = tf.strings.split(tf.strings.split(name, '/')[-1], '\\\\')[-2]\n",
    "            if label == 'coal':\n",
    "                label = [1,0,0]\n",
    "            elif label == 'steel':\n",
    "                label = [0,1,0]\n",
    "            else: label = [0,0,1]\n",
    "            features = np.array([file['B02'][0][0:x_size,0:y_size], file['B03'][0][0:x_size,0:y_size], file['B04'][0][0:x_size,0:y_size],file['B08'][0][0:x_size,0:y_size]]).transpose(1,2,0)\n",
    "            # features = np.expand_dims(features, axis=0)\n",
    "            return features, label\n",
    "            # I have commented the line below but this should return\n",
    "            # the features and the label in a one hot vector\n",
    "            # return file['features'], file['targets']\n",
    "    else:\n",
    "        print(\"Something went wrong!\")\n",
    "        exit(-1)"
   ]
  },
  {
   "cell_type": "code",
   "execution_count": null,
   "id": "6f8d3b08-b09b-480d-8d8d-bf44131c2034",
   "metadata": {},
   "outputs": [],
   "source": [
    "path = 'E:/Users/sentinel_industry/downloaded_aois/coal/'\n",
    "\n",
    "pkl_files = glob.glob((path+\"*.pickle\"))\n"
   ]
  },
  {
   "cell_type": "code",
   "execution_count": null,
   "id": "7def905d-f2c1-45f1-985c-aaf123860dd7",
   "metadata": {},
   "outputs": [],
   "source": [
    "print(len(pkl_files))"
   ]
  },
  {
   "cell_type": "code",
   "execution_count": null,
   "id": "f15f640f-7002-40d2-899a-21b4090c2128",
   "metadata": {},
   "outputs": [],
   "source": [
    "path_steel = 'E:/Users/sentinel_industry/downloaded_aois/steel/'\n",
    "pkl_files_steel = glob.glob((path_steel+\"*.pickle\"))"
   ]
  },
  {
   "cell_type": "code",
   "execution_count": null,
   "id": "5e5a78e7-514d-4f65-a831-57faa0c5df59",
   "metadata": {},
   "outputs": [],
   "source": [
    "path_steel_no_ind = 'E:/Users/sentinel_industry/downloaded_aois/steel/no_ind/'\n",
    "pkl_files_steel_no_ind = glob.glob((path_steel_no_ind+\"*.pickle\"))"
   ]
  },
  {
   "cell_type": "code",
   "execution_count": null,
   "id": "076b0a09-9866-4fee-a244-2bd75892bcc0",
   "metadata": {},
   "outputs": [],
   "source": [
    "path_coal_no_ind = 'E:/Users/sentinel_industry/downloaded_aois/coal/no_ind/'\n",
    "pkl_files_coal_no_ind = glob.glob((path_coal_no_ind+\"*.pickle\"))"
   ]
  },
  {
   "cell_type": "code",
   "execution_count": null,
   "id": "da24ac7d-0f3f-4cfe-b518-fef29417d581",
   "metadata": {},
   "outputs": [],
   "source": [
    "print(len(pkl_files_steel))"
   ]
  },
  {
   "cell_type": "code",
   "execution_count": null,
   "id": "af872199-9192-48eb-8cea-9693c2291fa3",
   "metadata": {},
   "outputs": [],
   "source": [
    "pkl_files = pkl_files + pkl_files_steel + pkl_files_steel_no_ind + pkl_files_coal_no_ind\n",
    "shuffle(pkl_files)"
   ]
  },
  {
   "cell_type": "code",
   "execution_count": null,
   "id": "cfe3ca4f-ca84-4d80-9218-95fc89e8fc1b",
   "metadata": {
    "tags": []
   },
   "outputs": [],
   "source": [
    "# from itertools import chain\n",
    "\n",
    "# pkl_files = list(chain.from_iterable(zip(pkl_files, pkl_files_steel)))\n"
   ]
  },
  {
   "cell_type": "code",
   "execution_count": null,
   "id": "07182a88-11f4-4b7d-a461-4debb2944063",
   "metadata": {},
   "outputs": [],
   "source": [
    "print(len(pkl_files))"
   ]
  },
  {
   "cell_type": "code",
   "execution_count": 2,
   "id": "dfc46d5e-854e-42c6-af9c-97123ce4b3be",
   "metadata": {},
   "outputs": [
    {
     "ename": "NameError",
     "evalue": "name 'pkl_files' is not defined",
     "output_type": "error",
     "traceback": [
      "\u001b[1;31m---------------------------------------------------------------------------\u001b[0m",
      "\u001b[1;31mNameError\u001b[0m                                 Traceback (most recent call last)",
      "\u001b[1;32m~\\AppData\\Local\\Temp\\ipykernel_17920\\1938210615.py\u001b[0m in \u001b[0;36m<module>\u001b[1;34m\u001b[0m\n\u001b[1;32m----> 1\u001b[1;33m \u001b[0mdataset_len\u001b[0m\u001b[1;33m=\u001b[0m\u001b[0mlen\u001b[0m\u001b[1;33m(\u001b[0m\u001b[0mpkl_files\u001b[0m\u001b[1;33m)\u001b[0m\u001b[1;33m\u001b[0m\u001b[1;33m\u001b[0m\u001b[0m\n\u001b[0m",
      "\u001b[1;31mNameError\u001b[0m: name 'pkl_files' is not defined"
     ]
    }
   ],
   "source": [
    "dataset_len=len(pkl_files)"
   ]
  },
  {
   "cell_type": "code",
   "execution_count": 92,
   "id": "21e3f5d5-620d-4e9d-8abb-ecee1ba2dac3",
   "metadata": {
    "tags": []
   },
   "outputs": [],
   "source": [
    "dataset = tf.data.Dataset.from_tensor_slices((pkl_files))\n",
    "\n",
    "def data_loader(filename):\n",
    "    features, labels = tf.numpy_function(load_features, [filename], [tf.uint16, tf.int32])\n",
    "    # features.set_shape((None, 242,242,4))\n",
    "    # labels.set_shape(( 1))\n",
    "    return features, labels\n",
    "\n",
    "dataset = dataset.map(data_loader)\n",
    "               # load_features, [filename], [tf.uint16, tf.string])))"
   ]
  },
  {
   "cell_type": "code",
   "execution_count": 93,
   "id": "adaadc4a-c328-4c33-b9b7-3d2e140f92bd",
   "metadata": {},
   "outputs": [],
   "source": [
    "dataset.shuffle(100)\n",
    "\n",
    "\n",
    "train_size = np.floor(0.8 * dataset_len)\n",
    "valid_size = np.floor(0.1 * dataset_len)\n",
    "test_size = np.floor(0.1 * dataset_len)\n",
    "\n",
    "train = dataset.take(train_size)\n",
    "remaining = dataset.skip(train_size)\n",
    "valid = remaining.take(valid_size)\n",
    "test = remaining.skip(valid_size)"
   ]
  },
  {
   "cell_type": "code",
   "execution_count": 94,
   "id": "80f35197-11ee-40af-bc9c-c5181c99583d",
   "metadata": {},
   "outputs": [],
   "source": [
    "train = train.shuffle(100,  reshuffle_each_iteration=True)"
   ]
  },
  {
   "cell_type": "code",
   "execution_count": 123,
   "id": "5c5ac712-d2ef-43e7-bc46-cfda264dc190",
   "metadata": {},
   "outputs": [],
   "source": [
    "in_seed = 42\n",
    "resize_rescale_augment = tf.keras.Sequential([\n",
    "    layers.RandomRotation(0.2, seed=in_seed, input_shape=(x_size,y_size,4)),\n",
    "    # layers.RandomCrop(120,120, seed=in_seed, input_shape=(x_size,y_size,4)),\n",
    "    layers.CenterCrop(120,120, ),\n",
    "    layers.Rescaling(1./10000),#,input_shape=(240,240,4)),\n",
    "    layers.RandomFlip(\"horizontal_and_vertical\", seed=in_seed),\n",
    "])"
   ]
  },
  {
   "cell_type": "code",
   "execution_count": 124,
   "id": "cb8f934b-2604-4cae-90e3-c805ebb2c54b",
   "metadata": {},
   "outputs": [],
   "source": [
    "# dataset = dataset.map((\n",
    "#   lambda x, y: (resize_and_rescale(x), y)))"
   ]
  },
  {
   "cell_type": "code",
   "execution_count": 125,
   "id": "f31d628e-b02a-4e9a-b488-621dbd9c6f60",
   "metadata": {},
   "outputs": [
    {
     "name": "stdout",
     "output_type": "stream",
     "text": [
      "(230, 230, 4)\n",
      "(3,)\n"
     ]
    }
   ],
   "source": [
    "for image_batch, labels_batch in dataset:\n",
    "    print(image_batch.shape)\n",
    "    print(labels_batch.shape)\n",
    "    break"
   ]
  },
  {
   "cell_type": "code",
   "execution_count": null,
   "id": "5f3462c2-7453-4add-9904-1fa3c0160cbb",
   "metadata": {},
   "outputs": [],
   "source": []
  },
  {
   "cell_type": "code",
   "execution_count": 126,
   "id": "d27b0ce3-1d0b-45b1-ae8b-2d93678fab2f",
   "metadata": {},
   "outputs": [
    {
     "data": {
      "text/plain": [
       "<ShuffleDataset shapes: (<unknown>, <unknown>), types: (tf.uint16, tf.int32)>"
      ]
     },
     "execution_count": 126,
     "metadata": {},
     "output_type": "execute_result"
    }
   ],
   "source": [
    "train"
   ]
  },
  {
   "cell_type": "code",
   "execution_count": 127,
   "id": "f3d2ec65-044d-4736-b6c9-f4921a6d7c0b",
   "metadata": {},
   "outputs": [],
   "source": [
    "model = tf.keras.Sequential([\n",
    "    resize_rescale_augment,\n",
    "    layers.Conv2D(16, 3, padding='same', activation='relu'),\n",
    "    layers.MaxPooling2D(),\n",
    "    layers.Conv2D(32, 3, padding='same', activation='relu'),\n",
    "    layers.MaxPooling2D(),\n",
    "    layers.Conv2D(64, 3, padding='same', activation='relu'),\n",
    "    layers.MaxPooling2D(),\n",
    "    layers.Conv2D(64, 3, padding='same', activation='relu'),\n",
    "    layers.MaxPooling2D(),\n",
    "    layers.Flatten(),\n",
    "    layers.Dense(128, activation='relu'),\n",
    "    layers.Dense(3)\n",
    "])\n",
    "\n",
    "model.compile(optimizer=keras.optimizers.Adam(),\n",
    "              loss=tf.keras.losses.CategoricalCrossentropy(from_logits=True), \n",
    "              metrics=[tf.keras.metrics.BinaryAccuracy()])\n"
   ]
  },
  {
   "cell_type": "code",
   "execution_count": 128,
   "id": "61a4893c-dc79-429a-9db4-07b6448b26f7",
   "metadata": {},
   "outputs": [],
   "source": [
    "model.build()"
   ]
  },
  {
   "cell_type": "code",
   "execution_count": 129,
   "id": "080187fe-ffc5-4377-a03e-f9dedd1185e6",
   "metadata": {},
   "outputs": [
    {
     "name": "stdout",
     "output_type": "stream",
     "text": [
      "Model: \"sequential_15\"\n",
      "_________________________________________________________________\n",
      "Layer (type)                 Output Shape              Param #   \n",
      "=================================================================\n",
      "sequential_14 (Sequential)   (None, 120, 120, 4)       0         \n",
      "_________________________________________________________________\n",
      "conv2d_22 (Conv2D)           (None, 120, 120, 16)      592       \n",
      "_________________________________________________________________\n",
      "max_pooling2d_22 (MaxPooling (None, 60, 60, 16)        0         \n",
      "_________________________________________________________________\n",
      "conv2d_23 (Conv2D)           (None, 60, 60, 32)        4640      \n",
      "_________________________________________________________________\n",
      "max_pooling2d_23 (MaxPooling (None, 30, 30, 32)        0         \n",
      "_________________________________________________________________\n",
      "conv2d_24 (Conv2D)           (None, 30, 30, 64)        18496     \n",
      "_________________________________________________________________\n",
      "max_pooling2d_24 (MaxPooling (None, 15, 15, 64)        0         \n",
      "_________________________________________________________________\n",
      "conv2d_25 (Conv2D)           (None, 15, 15, 64)        36928     \n",
      "_________________________________________________________________\n",
      "max_pooling2d_25 (MaxPooling (None, 7, 7, 64)          0         \n",
      "_________________________________________________________________\n",
      "flatten_7 (Flatten)          (None, 3136)              0         \n",
      "_________________________________________________________________\n",
      "dense_14 (Dense)             (None, 128)               401536    \n",
      "_________________________________________________________________\n",
      "dense_15 (Dense)             (None, 3)                 387       \n",
      "=================================================================\n",
      "Total params: 462,579\n",
      "Trainable params: 462,579\n",
      "Non-trainable params: 0\n",
      "_________________________________________________________________\n"
     ]
    }
   ],
   "source": [
    "model.summary()"
   ]
  },
  {
   "cell_type": "code",
   "execution_count": 130,
   "id": "6134b578-18ee-49c6-ad55-7ef4a5cc4dc1",
   "metadata": {},
   "outputs": [],
   "source": [
    "# image_batch, labels_batch = next(iter(dataset))"
   ]
  },
  {
   "cell_type": "code",
   "execution_count": 131,
   "id": "57d0110e-9c50-4017-ba3d-c72a8656f45f",
   "metadata": {},
   "outputs": [],
   "source": [
    "# validation_inputs, validation_targets = next(iter(valid))"
   ]
  },
  {
   "cell_type": "code",
   "execution_count": 132,
   "id": "4a35a6ca-fd36-47d1-accd-71c38fb12462",
   "metadata": {},
   "outputs": [],
   "source": [
    "# next(iter(valid))"
   ]
  },
  {
   "cell_type": "code",
   "execution_count": 133,
   "id": "be530648-e9dc-4672-8686-9370d346b6c0",
   "metadata": {},
   "outputs": [
    {
     "name": "stdout",
     "output_type": "stream",
     "text": [
      "Epoch 1/20\n",
      "146/146 [==============================] - 94s 630ms/step - loss: 0.8237 - binary_accuracy: 0.7534 - val_loss: 0.8219 - val_binary_accuracy: 0.7583\n",
      "Epoch 2/20\n",
      "146/146 [==============================] - 95s 651ms/step - loss: 0.6638 - binary_accuracy: 0.8165 - val_loss: 0.8455 - val_binary_accuracy: 0.7583\n",
      "Epoch 3/20\n",
      "146/146 [==============================] - 98s 669ms/step - loss: 0.6346 - binary_accuracy: 0.8235 - val_loss: 0.8744 - val_binary_accuracy: 0.7500\n",
      "Epoch 4/20\n",
      "146/146 [==============================] - 96s 657ms/step - loss: 0.6195 - binary_accuracy: 0.8297 - val_loss: 0.8758 - val_binary_accuracy: 0.7583\n",
      "Epoch 5/20\n",
      "146/146 [==============================] - 103s 705ms/step - loss: 0.6079 - binary_accuracy: 0.8340 - val_loss: 0.8215 - val_binary_accuracy: 0.7667\n",
      "Epoch 6/20\n",
      "146/146 [==============================] - 97s 662ms/step - loss: 0.5936 - binary_accuracy: 0.8389 - val_loss: 0.8307 - val_binary_accuracy: 0.7667\n",
      "Epoch 7/20\n",
      "146/146 [==============================] - 98s 665ms/step - loss: 0.5933 - binary_accuracy: 0.8344 - val_loss: 0.8746 - val_binary_accuracy: 0.7667\n",
      "Epoch 8/20\n",
      "146/146 [==============================] - 95s 646ms/step - loss: 0.5859 - binary_accuracy: 0.8325 - val_loss: 0.8351 - val_binary_accuracy: 0.7750\n",
      "Epoch 9/20\n",
      "146/146 [==============================] - 102s 696ms/step - loss: 0.5769 - binary_accuracy: 0.8426 - val_loss: 0.7562 - val_binary_accuracy: 0.7917\n",
      "Epoch 10/20\n",
      "146/146 [==============================] - 102s 696ms/step - loss: 0.5782 - binary_accuracy: 0.8397 - val_loss: 0.8098 - val_binary_accuracy: 0.8083\n",
      "Epoch 11/20\n",
      "146/146 [==============================] - 96s 655ms/step - loss: 0.5697 - binary_accuracy: 0.8429 - val_loss: 0.8333 - val_binary_accuracy: 0.7917\n",
      "Epoch 12/20\n",
      "146/146 [==============================] - 103s 698ms/step - loss: 0.5770 - binary_accuracy: 0.8381 - val_loss: 0.7838 - val_binary_accuracy: 0.7917\n",
      "Epoch 13/20\n",
      "146/146 [==============================] - 104s 709ms/step - loss: 0.5717 - binary_accuracy: 0.8386 - val_loss: 0.7780 - val_binary_accuracy: 0.7833\n",
      "Epoch 14/20\n",
      "146/146 [==============================] - 97s 664ms/step - loss: 0.5623 - binary_accuracy: 0.8397 - val_loss: 0.7418 - val_binary_accuracy: 0.7917\n",
      "Epoch 15/20\n",
      "146/146 [==============================] - 100s 684ms/step - loss: 0.5620 - binary_accuracy: 0.8381 - val_loss: 0.8566 - val_binary_accuracy: 0.7500\n",
      "Epoch 16/20\n",
      "146/146 [==============================] - 95s 641ms/step - loss: 0.5631 - binary_accuracy: 0.8387 - val_loss: 0.7847 - val_binary_accuracy: 0.7833\n",
      "Epoch 17/20\n",
      "146/146 [==============================] - 97s 659ms/step - loss: 0.5577 - binary_accuracy: 0.8447 - val_loss: 0.7584 - val_binary_accuracy: 0.7583\n",
      "Epoch 18/20\n",
      "146/146 [==============================] - 95s 642ms/step - loss: 0.5522 - binary_accuracy: 0.8453 - val_loss: 0.7526 - val_binary_accuracy: 0.8000\n",
      "Epoch 19/20\n",
      "146/146 [==============================] - 93s 632ms/step - loss: 0.5499 - binary_accuracy: 0.8483 - val_loss: 0.8180 - val_binary_accuracy: 0.7917\n",
      "Epoch 20/20\n",
      "146/146 [==============================] - 97s 656ms/step - loss: 0.5463 - binary_accuracy: 0.8482 - val_loss: 0.8808 - val_binary_accuracy: 0.7917\n"
     ]
    }
   ],
   "source": [
    "epochs=20\n",
    "batch_size = 40\n",
    "history = model.fit(\n",
    "  train.batch(batch_size, drop_remainder=True).prefetch(tf.data.AUTOTUNE),\n",
    "  validation_data=valid.batch(batch_size, drop_remainder=True).prefetch(tf.data.AUTOTUNE),\n",
    "    validation_steps=1,\n",
    "  epochs=epochs,\n",
    ")"
   ]
  },
  {
   "cell_type": "code",
   "execution_count": 135,
   "id": "bb171cdb-c5d8-4f7d-b778-18aa7efc08bf",
   "metadata": {
    "tags": []
   },
   "outputs": [
    {
     "data": {
      "text/plain": [
       "{'loss': [0.8236790299415588,\n",
       "  0.6638243198394775,\n",
       "  0.6345580220222473,\n",
       "  0.6195027232170105,\n",
       "  0.6078817844390869,\n",
       "  0.5935801267623901,\n",
       "  0.5932939052581787,\n",
       "  0.5859193801879883,\n",
       "  0.5768601298332214,\n",
       "  0.5781650543212891,\n",
       "  0.5697368383407593,\n",
       "  0.5770413875579834,\n",
       "  0.5717342495918274,\n",
       "  0.5622901916503906,\n",
       "  0.5620269775390625,\n",
       "  0.563075840473175,\n",
       "  0.5577449202537537,\n",
       "  0.552181601524353,\n",
       "  0.5498566627502441,\n",
       "  0.5463148355484009],\n",
       " 'binary_accuracy': [0.7534244656562805,\n",
       "  0.8164952397346497,\n",
       "  0.8235159516334534,\n",
       "  0.829680323600769,\n",
       "  0.8340182304382324,\n",
       "  0.8388698697090149,\n",
       "  0.8343607187271118,\n",
       "  0.8325344324111938,\n",
       "  0.8425797820091248,\n",
       "  0.8397263884544373,\n",
       "  0.8429225087165833,\n",
       "  0.838127851486206,\n",
       "  0.8386415243148804,\n",
       "  0.8396691679954529,\n",
       "  0.838127851486206,\n",
       "  0.83869868516922,\n",
       "  0.8446916937828064,\n",
       "  0.8452625274658203,\n",
       "  0.8482875227928162,\n",
       "  0.8481733202934265],\n",
       " 'val_loss': [0.8218598365783691,\n",
       "  0.845478892326355,\n",
       "  0.8744365572929382,\n",
       "  0.8758195638656616,\n",
       "  0.8214961886405945,\n",
       "  0.8307081460952759,\n",
       "  0.8746275901794434,\n",
       "  0.8350884318351746,\n",
       "  0.7562451362609863,\n",
       "  0.8097653388977051,\n",
       "  0.8332855105400085,\n",
       "  0.7837637066841125,\n",
       "  0.7780297994613647,\n",
       "  0.741782546043396,\n",
       "  0.8565666079521179,\n",
       "  0.7846719622612,\n",
       "  0.7584002614021301,\n",
       "  0.7526326179504395,\n",
       "  0.8180127143859863,\n",
       "  0.8807517290115356],\n",
       " 'val_binary_accuracy': [0.7583333253860474,\n",
       "  0.7583333253860474,\n",
       "  0.75,\n",
       "  0.7583333253860474,\n",
       "  0.7666666507720947,\n",
       "  0.7666667103767395,\n",
       "  0.7666667103767395,\n",
       "  0.7749999761581421,\n",
       "  0.7916666269302368,\n",
       "  0.8083332777023315,\n",
       "  0.7916666269302368,\n",
       "  0.7916666269302368,\n",
       "  0.7833333611488342,\n",
       "  0.7916666269302368,\n",
       "  0.75,\n",
       "  0.7833333611488342,\n",
       "  0.7583333253860474,\n",
       "  0.800000011920929,\n",
       "  0.7916666269302368,\n",
       "  0.7916666269302368]}"
      ]
     },
     "execution_count": 135,
     "metadata": {},
     "output_type": "execute_result"
    }
   ],
   "source": [
    "history.history"
   ]
  },
  {
   "cell_type": "code",
   "execution_count": 136,
   "id": "f00e5265-142f-4b61-ab38-2cab5289760b",
   "metadata": {},
   "outputs": [
    {
     "data": {
      "image/png": "[encoded data removed]",
      "text/plain": [
       "<Figure size 1296x360 with 2 Axes>"
      ]
     },
     "metadata": {
      "needs_background": "light"
     },
     "output_type": "display_data"
    }
   ],
   "source": [
    "import matplotlib.pyplot as plt\n",
    "acc = history.history['binary_accuracy']\n",
    "val_acc = history.history['val_binary_accuracy']\n",
    "\n",
    "loss = history.history['loss']\n",
    "val_loss = history.history['val_loss']\n",
    "\n",
    "epochs_range = range(epochs)\n",
    "\n",
    "plt.figure(figsize=(18, 5))\n",
    "plt.subplot(1, 2, 1)\n",
    "plt.plot(epochs_range, acc, label='Training Accuracy')\n",
    "plt.plot(epochs_range, val_acc, label='Validation Accuracy')\n",
    "plt.legend(loc='lower right')\n",
    "plt.title('Training and Validation Accuracy')\n",
    "\n",
    "plt.subplot(1, 2, 2)\n",
    "plt.plot(epochs_range, loss, label='Training Loss')\n",
    "plt.plot(epochs_range, val_loss, label='Validation Loss')\n",
    "plt.legend(loc='upper right')\n",
    "plt.title('Training and Validation Loss')\n",
    "plt.show()\n"
   ]
  },
  {
   "cell_type": "code",
   "execution_count": 134,
   "id": "8594d64b-2ba7-4826-b54b-3d641f741a41",
   "metadata": {},
   "outputs": [
    {
     "data": {
      "text/plain": [
       "<tf.Tensor: shape=(120, 120, 4), dtype=float32, numpy=\n",
       "array([[[0.0353    , 0.056     , 0.06659999, 0.2198    ],\n",
       "        [0.0437    , 0.0631    , 0.0741    , 0.23089999],\n",
       "        [0.0413    , 0.0601    , 0.0692    , 0.20719999],\n",
       "        ...,\n",
       "        [0.0318    , 0.0448    , 0.07009999, 0.1776    ],\n",
       "        [0.0298    , 0.0396    , 0.0633    , 0.15879999],\n",
       "        [0.0254    , 0.0383    , 0.054     , 0.14729999]],\n",
       "\n",
       "       [[0.0301    , 0.052     , 0.0524    , 0.2382    ],\n",
       "        [0.0307    , 0.0556    , 0.0596    , 0.249     ],\n",
       "        [0.0302    , 0.0552    , 0.058     , 0.2514    ],\n",
       "        ...,\n",
       "        [0.0249    , 0.0361    , 0.0549    , 0.15179999],\n",
       "        [0.0271    , 0.0346    , 0.0519    , 0.1415    ],\n",
       "        [0.0234    , 0.0365    , 0.0507    , 0.14479999]],\n",
       "\n",
       "       [[0.0219    , 0.0392    , 0.0364    , 0.1656    ],\n",
       "        [0.0204    , 0.0389    , 0.0402    , 0.18079999],\n",
       "        [0.0245    , 0.0482    , 0.0456    , 0.2166    ],\n",
       "        ...,\n",
       "        [0.0175    , 0.0266    , 0.0394    , 0.1276    ],\n",
       "        [0.0161    , 0.0274    , 0.0355    , 0.1339    ],\n",
       "        [0.0205    , 0.0313    , 0.0433    , 0.13759999]],\n",
       "\n",
       "       ...,\n",
       "\n",
       "       [[0.0281    , 0.0414    , 0.0547    , 0.1348    ],\n",
       "        [0.0246    , 0.0348    , 0.0475    , 0.1239    ],\n",
       "        [0.0257    , 0.0384    , 0.0513    , 0.12979999],\n",
       "        ...,\n",
       "        [0.0381    , 0.0549    , 0.0738    , 0.1688    ],\n",
       "        [0.0374    , 0.0515    , 0.0771    , 0.16939999],\n",
       "        [0.0404    , 0.0569    , 0.0812    , 0.19039999]],\n",
       "\n",
       "       [[0.0303    , 0.0451    , 0.0599    , 0.148     ],\n",
       "        [0.0265    , 0.0375    , 0.0531    , 0.13859999],\n",
       "        [0.0295    , 0.0413    , 0.0571    , 0.1422    ],\n",
       "        ...,\n",
       "        [0.0366    , 0.0505    , 0.0759    , 0.17359999],\n",
       "        [0.0347    , 0.0536    , 0.07889999, 0.1837    ],\n",
       "        [0.0442    , 0.0585    , 0.0822    , 0.1961    ]],\n",
       "\n",
       "       [[0.0334    , 0.0495    , 0.0677    , 0.1638    ],\n",
       "        [0.0335    , 0.048     , 0.0646    , 0.1637    ],\n",
       "        [0.0324    , 0.0448    , 0.0603    , 0.156     ],\n",
       "        ...,\n",
       "        [0.0391    , 0.0514    , 0.0733    , 0.16929999],\n",
       "        [0.0334    , 0.0492    , 0.078     , 0.1854    ],\n",
       "        [0.0391    , 0.0525    , 0.0759    , 0.18329999]]], dtype=float32)>"
      ]
     },
     "execution_count": 134,
     "metadata": {},
     "output_type": "execute_result"
    }
   ],
   "source": [
    "iterator=tf.compat.v1.data.make_one_shot_iterator(dataset)\n",
    "next_element = iterator.get_next()\n",
    "resize_and_rescale(next_element[0])"
   ]
  },
  {
   "cell_type": "code",
   "execution_count": null,
   "id": "12def7a3-969a-4f00-8051-9ac8e774f5f6",
   "metadata": {},
   "outputs": [],
   "source": [
    "iterator=tf.compat.v1.data.make_one_shot_iterator(dataset)"
   ]
  },
  {
   "cell_type": "code",
   "execution_count": null,
   "id": "21253b84-bc80-4976-8816-b49dee2293d9",
   "metadata": {},
   "outputs": [],
   "source": [
    "plt.figure(figsize=(10, 10))\n",
    "for i in range(9):\n",
    "    ax = plt.subplot(3, 3, i + 1)\n",
    "    next_element = iterator.get_next()\n",
    "    im = resize_rescale_augment(next_element[0])\n",
    "    plt.imshow(np.flip(im[0,:,:,0:3], axis=2))\n",
    "    plt.title(convert_onehot(next_element))"
   ]
  },
  {
   "cell_type": "code",
   "execution_count": null,
   "id": "420f89dc-23ea-4317-a8ff-376357f954d0",
   "metadata": {},
   "outputs": [],
   "source": []
  },
  {
   "cell_type": "code",
   "execution_count": null,
   "id": "b372a01e-8e19-45ee-a7fc-0a5540f19f04",
   "metadata": {},
   "outputs": [],
   "source": []
  },
  {
   "cell_type": "code",
   "execution_count": null,
   "id": "ec6827d1-167e-47c0-ae4c-441f24174694",
   "metadata": {},
   "outputs": [],
   "source": []
  },
  {
   "cell_type": "code",
   "execution_count": null,
   "id": "f6311393-972b-421b-b164-3f62c9effb9c",
   "metadata": {},
   "outputs": [],
   "source": []
  }
 ],
 "metadata": {
  "kernelspec": {
   "display_name": "Python 3 (ipykernel)",
   "language": "python",
   "name": "python3"
  },
  "language_info": {
   "codemirror_mode": {
    "name": "ipython",
    "version": 3
   },
   "file_extension": ".py",
   "mimetype": "text/x-python",
   "name": "python",
   "nbconvert_exporter": "python",
   "pygments_lexer": "ipython3",
   "version": "3.7.12"
  }
 },
 "nbformat": 4,
 "nbformat_minor": 5
}
